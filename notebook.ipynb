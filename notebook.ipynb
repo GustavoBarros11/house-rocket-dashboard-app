{
 "cells": [
  {
   "cell_type": "markdown",
   "metadata": {},
   "source": [
    "# 1) Questões de Negócio\n",
    "**Nome da Empresa**: House Rocket<br>\n",
    "**Modelo de Negócio**: Compra e venda de imóveis, obtendo lucro pela revenda.<br>\n",
    "**Problemas de Negócio**: \n",
    "1. Quais os imóveis que a House Rocket deveria comprar e por qual preço?\n",
    "2. Uma vez comprados, quando será a melhor época para revender e por qual preço?\n",
    "3. Valide as seguintes *hipóteses de negócio*:\n",
    "   1. dfsdf"
   ]
  },
  {
   "cell_type": "markdown",
   "metadata": {},
   "source": [
    "# 2) Planejamento da Solução\n",
    "### Produto Final\n",
    "### Planejamento das Ferramentas\n",
    "### Processo"
   ]
  },
  {
   "cell_type": "markdown",
   "metadata": {},
   "source": [
    "# 3) Coleta e Limpeza dos Dados"
   ]
  },
  {
   "cell_type": "markdown",
   "metadata": {},
   "source": []
  },
  {
   "cell_type": "markdown",
   "metadata": {},
   "source": [
    "# 4) Análise Exploratória dos Dados"
   ]
  },
  {
   "cell_type": "code",
   "execution_count": null,
   "metadata": {},
   "outputs": [],
   "source": []
  }
 ],
 "metadata": {
  "kernelspec": {
   "display_name": "Python 3.8.10 64-bit",
   "language": "python",
   "name": "python3"
  },
  "language_info": {
   "name": "python",
   "version": "3.8.10"
  },
  "orig_nbformat": 4,
  "vscode": {
   "interpreter": {
    "hash": "916dbcbb3f70747c44a77c7bcd40155683ae19c65e1c03b4aa3499c5328201f1"
   }
  }
 },
 "nbformat": 4,
 "nbformat_minor": 2
}
