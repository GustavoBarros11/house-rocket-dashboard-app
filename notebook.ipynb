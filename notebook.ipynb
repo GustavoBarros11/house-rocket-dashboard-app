{
 "cells": [
  {
   "cell_type": "markdown",
   "metadata": {},
   "source": [
    "# 1) Questões de Negócio\n",
    "Nome da Empresa: House Rocket<br>\n",
    "Modelo de Negócio: Compra e venda de imóveis, obtendo lucro pela revenda.<br>\n",
    "Problemas de Negócio: \n",
    "1. Quais os imóveis que a House Rocket deveria comprar e por qual preço?\n",
    "2. Uma vez comprados, quando será a melhor época para revender e por qual preço?\n",
    "3. Valide as *hipóteses de negócio*."
   ]
  },
  {
   "cell_type": "markdown",
   "metadata": {},
   "source": [
    "# 2) Planejamento da Solução"
   ]
  },
  {
   "cell_type": "markdown",
   "metadata": {},
   "source": [
    "### Produto Final\n",
    "- Dashboard disponível online 24/7, contendo:\n",
    "  - 2 tabelas referentes a recomendações de imóveis e preços de compra e revenda.\n",
    "  - Visualizações correspondendo a validação de cada uma das hipóteses de negócio."
   ]
  },
  {
   "cell_type": "markdown",
   "metadata": {},
   "source": [
    "### Planejamento das Ferramentas\n",
    "- Python 3.10.*\n",
    "- Pandas, Numpy\n",
    "- Matplotlib e Seaborn\n",
    "- Streamlit\n",
    "- Cloud Heroku"
   ]
  },
  {
   "cell_type": "markdown",
   "metadata": {},
   "source": [
    "### Processo\n",
    "##### 1) Quais os imóveis que a House Rocket deveria comprar e por qual preço?\n",
    "1. Agrupar os imóveis por região;\n",
    "2. Aplicar mediana do preço de cada região;\n",
    "3. Selecionar imóveis que estejam abaixo do preço mediano de sua região e que estejam em boas condições;\n",
    "##### 2) Uma vez comprados, quando será a melhor época para revender e por qual preço?\n",
    "1. Criar coluna season, que indica a estação do ano que o imóvel foi vendido.\n",
    "2. Agrupar os imóveis por região e por sazonalidade (season);\n",
    "3. Calcular preço mediano de cada grupo;\n",
    "4. Selecionar aqueles imóveis que estejam em boas condições e que possuam seu preço abaixo da mediana de seu grupo; \n",
    "##### 3) Valide as seguintes *hipóteses de negócio*:\n",
    "1. Imóveis que possuem vista para água, são 20% mais caros, na média.\n",
    "    * Selecionar os imóveis que possuem o valor da coluna 'waterfront' igual a 1\n",
    "    * Calcular o preço médio desse grupo de imóveis\n",
    "    * Comparar com o preço médio de todos os imóveis e calcular a porcentagem de aumento/redução\n",
    "2. Imóveis com data de construção menor que 1955, são 50% mais baratos, na média.\n",
    "    * Selecionar os imóveis com o valor da variável *yr_built* menor que 1955\n",
    "    * Calcular a média dos preços destes imóveis\n",
    "    * Comparar com o preço médio de todos os imóveis e calcular a porcentagem de aumento/redução\n",
    "3. Imóveis sem porão - possuem área total (sqrt_lot) - são 40% maiores do que os imóveis com porão.\n",
    "    * Selecionar os imóveis que possuem o valor da variável 'sqft_basement' igual a 0 e calcular a média das áreas\n",
    "    * Selecionar os imóveis que possuem o valor da variável 'sqft_basement' maior que 0 e calcular a média das áreas\n",
    "    * Calcular a porcentagem de aumento/reducao médio entre os dois grupos\n",
    "4. O crescimento do preço dos imóveis YoY (Year over Year) é de 10%.\n",
    "    * Agrupar os imóveis por ano e agregar seus valores na média.\n",
    "    * Calcular a porcentagem de aumento/redução entre os anos\n",
    "5. Imóveis com 3 banheiros tem um crescimento de MoM (Month over Month) de 15%.\n",
    "    * Selecionar os imóveis que possuem 3 banheiros\n",
    "    * Agrupar os imóveis por mês e calcular o preço médio de cada mês\n",
    "    * Calcular as porcentagens de aumento/redução de cada um dos meses com o mês imediatamente anterior\n",
    "    * Tirar a média de todas as porcentagens de aumento/redução dos valores acima\n",
    "6. Imóveis com mais números de quarto são em média 10% mais caros do que outros imóveis com 1 unidade de quartos a menos, em média.\n",
    "    * Agrupar os imóveis pela variável 'bedrooms'\n",
    "    * Agregar a média dos preços de cada subgrupo\n",
    "    * Iterar sobre o novo dataframe resultante dos cálculos anteriores e criar um array contendo a porcentagem de acréscimo/redução de um mês com o seu antecessor\n",
    "    * Uma vez o array preenchido com as porcentagens de aumento/reducao, tirar a média destes valores\n",
    "7. A variação média no preço dos imóveis entre as categorias da variável *condition*, indicam um acréscimo médio de 15% de uma para outra.\n",
    "    * Agrupar os dados pela variável 'condition'\n",
    "    * Agregar a média de seus valores\n",
    "    * Criar gráfico de barras que mostre a comparação entre as categorias da variável 'condition' e a média de seus preços\n",
    "    * Tirar a média das porcentagens de aumento/redução de uma categoria para outra dentre todas as categorias com relação a imediatamente anterior, já que estes dados categóricos a ordem importa\n",
    "8. Imóveis em más condições - 'condition' < 3 - mas possuem vista para o mar, são 10% mais caras, na mediana do que imóveis nas mesmas condições, mas sem vista para o mar.\n",
    "    * Selecionar os imóveis que possuem o valor da variável 'condition' menor que 3 e que possuem waterfront igual a 1.\n",
    "    * Selecionar os imóveis que possuem o valor da variável 'condition' menor que 3 e que possuem waterfront igual a 0.\n",
    "    * Calcular a mediana dos preços de cada um dos grupos acima\n",
    "    * Calcular a porcentagem de aumento/redução dos preços comparativos acima\n",
    "9.  Para cada nível da variável 'grade', o preço médio dos imóveis aumenta em 18%.\n",
    "    * Agrupar o imóveis por 'grade'\n",
    "    * Calcular os preços médios de cada categoria acima\n",
    "    * Calcular a porcentagem de aumento/redução dos preços comparativos acima\n",
    "10. O crescimento WoW (Week over Week) do preço das propriedades é de 0.1%, na média.\n",
    "    * Agrupar os dados por semana\n",
    "    * Agregar a média dos preços de cada subgrupo de imóveis\n",
    "    * Calcular a média dos aumentos/reduções semanais consecutivos"
   ]
  },
  {
   "cell_type": "markdown",
   "metadata": {},
   "source": [
    "# 3) Coleta e Limpeza dos Dados"
   ]
  },
  {
   "cell_type": "code",
   "execution_count": 1,
   "metadata": {},
   "outputs": [],
   "source": [
    "import pandas as pd\n",
    "import numpy as np\n",
    "import matplotlib.pyplot as plt\n",
    "%matplotlib inline\n",
    "import seaborn as sns\n",
    "\n",
    "pd.set_option('display.float_format', '{:.2f}'.format)"
   ]
  },
  {
   "cell_type": "code",
   "execution_count": 2,
   "metadata": {},
   "outputs": [
    {
     "data": {
      "text/html": [
       "<div>\n",
       "<style scoped>\n",
       "    .dataframe tbody tr th:only-of-type {\n",
       "        vertical-align: middle;\n",
       "    }\n",
       "\n",
       "    .dataframe tbody tr th {\n",
       "        vertical-align: top;\n",
       "    }\n",
       "\n",
       "    .dataframe thead th {\n",
       "        text-align: right;\n",
       "    }\n",
       "</style>\n",
       "<table border=\"1\" class=\"dataframe\">\n",
       "  <thead>\n",
       "    <tr style=\"text-align: right;\">\n",
       "      <th></th>\n",
       "      <th>id</th>\n",
       "      <th>date</th>\n",
       "      <th>price</th>\n",
       "      <th>bedrooms</th>\n",
       "      <th>bathrooms</th>\n",
       "      <th>sqft_living</th>\n",
       "      <th>sqft_lot</th>\n",
       "      <th>floors</th>\n",
       "      <th>waterfront</th>\n",
       "      <th>view</th>\n",
       "      <th>...</th>\n",
       "      <th>grade</th>\n",
       "      <th>sqft_above</th>\n",
       "      <th>sqft_basement</th>\n",
       "      <th>yr_built</th>\n",
       "      <th>yr_renovated</th>\n",
       "      <th>zipcode</th>\n",
       "      <th>lat</th>\n",
       "      <th>long</th>\n",
       "      <th>sqft_living15</th>\n",
       "      <th>sqft_lot15</th>\n",
       "    </tr>\n",
       "  </thead>\n",
       "  <tbody>\n",
       "    <tr>\n",
       "      <th>0</th>\n",
       "      <td>7129300520</td>\n",
       "      <td>20141013T000000</td>\n",
       "      <td>221900.00</td>\n",
       "      <td>3</td>\n",
       "      <td>1.00</td>\n",
       "      <td>1180</td>\n",
       "      <td>5650</td>\n",
       "      <td>1.00</td>\n",
       "      <td>0</td>\n",
       "      <td>0</td>\n",
       "      <td>...</td>\n",
       "      <td>7</td>\n",
       "      <td>1180</td>\n",
       "      <td>0</td>\n",
       "      <td>1955</td>\n",
       "      <td>0</td>\n",
       "      <td>98178</td>\n",
       "      <td>47.51</td>\n",
       "      <td>-122.26</td>\n",
       "      <td>1340</td>\n",
       "      <td>5650</td>\n",
       "    </tr>\n",
       "    <tr>\n",
       "      <th>1</th>\n",
       "      <td>6414100192</td>\n",
       "      <td>20141209T000000</td>\n",
       "      <td>538000.00</td>\n",
       "      <td>3</td>\n",
       "      <td>2.25</td>\n",
       "      <td>2570</td>\n",
       "      <td>7242</td>\n",
       "      <td>2.00</td>\n",
       "      <td>0</td>\n",
       "      <td>0</td>\n",
       "      <td>...</td>\n",
       "      <td>7</td>\n",
       "      <td>2170</td>\n",
       "      <td>400</td>\n",
       "      <td>1951</td>\n",
       "      <td>1991</td>\n",
       "      <td>98125</td>\n",
       "      <td>47.72</td>\n",
       "      <td>-122.32</td>\n",
       "      <td>1690</td>\n",
       "      <td>7639</td>\n",
       "    </tr>\n",
       "    <tr>\n",
       "      <th>2</th>\n",
       "      <td>5631500400</td>\n",
       "      <td>20150225T000000</td>\n",
       "      <td>180000.00</td>\n",
       "      <td>2</td>\n",
       "      <td>1.00</td>\n",
       "      <td>770</td>\n",
       "      <td>10000</td>\n",
       "      <td>1.00</td>\n",
       "      <td>0</td>\n",
       "      <td>0</td>\n",
       "      <td>...</td>\n",
       "      <td>6</td>\n",
       "      <td>770</td>\n",
       "      <td>0</td>\n",
       "      <td>1933</td>\n",
       "      <td>0</td>\n",
       "      <td>98028</td>\n",
       "      <td>47.74</td>\n",
       "      <td>-122.23</td>\n",
       "      <td>2720</td>\n",
       "      <td>8062</td>\n",
       "    </tr>\n",
       "    <tr>\n",
       "      <th>3</th>\n",
       "      <td>2487200875</td>\n",
       "      <td>20141209T000000</td>\n",
       "      <td>604000.00</td>\n",
       "      <td>4</td>\n",
       "      <td>3.00</td>\n",
       "      <td>1960</td>\n",
       "      <td>5000</td>\n",
       "      <td>1.00</td>\n",
       "      <td>0</td>\n",
       "      <td>0</td>\n",
       "      <td>...</td>\n",
       "      <td>7</td>\n",
       "      <td>1050</td>\n",
       "      <td>910</td>\n",
       "      <td>1965</td>\n",
       "      <td>0</td>\n",
       "      <td>98136</td>\n",
       "      <td>47.52</td>\n",
       "      <td>-122.39</td>\n",
       "      <td>1360</td>\n",
       "      <td>5000</td>\n",
       "    </tr>\n",
       "    <tr>\n",
       "      <th>4</th>\n",
       "      <td>1954400510</td>\n",
       "      <td>20150218T000000</td>\n",
       "      <td>510000.00</td>\n",
       "      <td>3</td>\n",
       "      <td>2.00</td>\n",
       "      <td>1680</td>\n",
       "      <td>8080</td>\n",
       "      <td>1.00</td>\n",
       "      <td>0</td>\n",
       "      <td>0</td>\n",
       "      <td>...</td>\n",
       "      <td>8</td>\n",
       "      <td>1680</td>\n",
       "      <td>0</td>\n",
       "      <td>1987</td>\n",
       "      <td>0</td>\n",
       "      <td>98074</td>\n",
       "      <td>47.62</td>\n",
       "      <td>-122.05</td>\n",
       "      <td>1800</td>\n",
       "      <td>7503</td>\n",
       "    </tr>\n",
       "  </tbody>\n",
       "</table>\n",
       "<p>5 rows × 21 columns</p>\n",
       "</div>"
      ],
      "text/plain": [
       "           id             date     price  bedrooms  bathrooms  sqft_living  \\\n",
       "0  7129300520  20141013T000000 221900.00         3       1.00         1180   \n",
       "1  6414100192  20141209T000000 538000.00         3       2.25         2570   \n",
       "2  5631500400  20150225T000000 180000.00         2       1.00          770   \n",
       "3  2487200875  20141209T000000 604000.00         4       3.00         1960   \n",
       "4  1954400510  20150218T000000 510000.00         3       2.00         1680   \n",
       "\n",
       "   sqft_lot  floors  waterfront  view  ...  grade  sqft_above  sqft_basement  \\\n",
       "0      5650    1.00           0     0  ...      7        1180              0   \n",
       "1      7242    2.00           0     0  ...      7        2170            400   \n",
       "2     10000    1.00           0     0  ...      6         770              0   \n",
       "3      5000    1.00           0     0  ...      7        1050            910   \n",
       "4      8080    1.00           0     0  ...      8        1680              0   \n",
       "\n",
       "   yr_built  yr_renovated  zipcode   lat    long  sqft_living15  sqft_lot15  \n",
       "0      1955             0    98178 47.51 -122.26           1340        5650  \n",
       "1      1951          1991    98125 47.72 -122.32           1690        7639  \n",
       "2      1933             0    98028 47.74 -122.23           2720        8062  \n",
       "3      1965             0    98136 47.52 -122.39           1360        5000  \n",
       "4      1987             0    98074 47.62 -122.05           1800        7503  \n",
       "\n",
       "[5 rows x 21 columns]"
      ]
     },
     "execution_count": 2,
     "metadata": {},
     "output_type": "execute_result"
    }
   ],
   "source": [
    "data = pd.read_csv('kc_house_data.csv')\n",
    "data.head()"
   ]
  },
  {
   "cell_type": "code",
   "execution_count": 3,
   "metadata": {},
   "outputs": [
    {
     "data": {
      "text/plain": [
       "(21613, 21)"
      ]
     },
     "execution_count": 3,
     "metadata": {},
     "output_type": "execute_result"
    }
   ],
   "source": [
    "data.shape"
   ]
  },
  {
   "cell_type": "code",
   "execution_count": 4,
   "metadata": {},
   "outputs": [
    {
     "name": "stdout",
     "output_type": "stream",
     "text": [
      "<class 'pandas.core.frame.DataFrame'>\n",
      "RangeIndex: 21613 entries, 0 to 21612\n",
      "Data columns (total 21 columns):\n",
      " #   Column         Non-Null Count  Dtype  \n",
      "---  ------         --------------  -----  \n",
      " 0   id             21613 non-null  int64  \n",
      " 1   date           21613 non-null  object \n",
      " 2   price          21613 non-null  float64\n",
      " 3   bedrooms       21613 non-null  int64  \n",
      " 4   bathrooms      21613 non-null  float64\n",
      " 5   sqft_living    21613 non-null  int64  \n",
      " 6   sqft_lot       21613 non-null  int64  \n",
      " 7   floors         21613 non-null  float64\n",
      " 8   waterfront     21613 non-null  int64  \n",
      " 9   view           21613 non-null  int64  \n",
      " 10  condition      21613 non-null  int64  \n",
      " 11  grade          21613 non-null  int64  \n",
      " 12  sqft_above     21613 non-null  int64  \n",
      " 13  sqft_basement  21613 non-null  int64  \n",
      " 14  yr_built       21613 non-null  int64  \n",
      " 15  yr_renovated   21613 non-null  int64  \n",
      " 16  zipcode        21613 non-null  int64  \n",
      " 17  lat            21613 non-null  float64\n",
      " 18  long           21613 non-null  float64\n",
      " 19  sqft_living15  21613 non-null  int64  \n",
      " 20  sqft_lot15     21613 non-null  int64  \n",
      "dtypes: float64(5), int64(15), object(1)\n",
      "memory usage: 3.5+ MB\n"
     ]
    }
   ],
   "source": [
    "data.info()"
   ]
  },
  {
   "cell_type": "code",
   "execution_count": 5,
   "metadata": {},
   "outputs": [
    {
     "data": {
      "text/html": [
       "<div>\n",
       "<style scoped>\n",
       "    .dataframe tbody tr th:only-of-type {\n",
       "        vertical-align: middle;\n",
       "    }\n",
       "\n",
       "    .dataframe tbody tr th {\n",
       "        vertical-align: top;\n",
       "    }\n",
       "\n",
       "    .dataframe thead th {\n",
       "        text-align: right;\n",
       "    }\n",
       "</style>\n",
       "<table border=\"1\" class=\"dataframe\">\n",
       "  <thead>\n",
       "    <tr style=\"text-align: right;\">\n",
       "      <th></th>\n",
       "      <th>id</th>\n",
       "      <th>price</th>\n",
       "      <th>bedrooms</th>\n",
       "      <th>bathrooms</th>\n",
       "      <th>sqft_living</th>\n",
       "      <th>sqft_lot</th>\n",
       "      <th>floors</th>\n",
       "      <th>waterfront</th>\n",
       "      <th>view</th>\n",
       "      <th>condition</th>\n",
       "      <th>grade</th>\n",
       "      <th>sqft_above</th>\n",
       "      <th>sqft_basement</th>\n",
       "      <th>yr_built</th>\n",
       "      <th>yr_renovated</th>\n",
       "      <th>zipcode</th>\n",
       "      <th>lat</th>\n",
       "      <th>long</th>\n",
       "      <th>sqft_living15</th>\n",
       "      <th>sqft_lot15</th>\n",
       "    </tr>\n",
       "  </thead>\n",
       "  <tbody>\n",
       "    <tr>\n",
       "      <th>count</th>\n",
       "      <td>21613.00</td>\n",
       "      <td>21613.00</td>\n",
       "      <td>21613.00</td>\n",
       "      <td>21613.00</td>\n",
       "      <td>21613.00</td>\n",
       "      <td>21613.00</td>\n",
       "      <td>21613.00</td>\n",
       "      <td>21613.00</td>\n",
       "      <td>21613.00</td>\n",
       "      <td>21613.00</td>\n",
       "      <td>21613.00</td>\n",
       "      <td>21613.00</td>\n",
       "      <td>21613.00</td>\n",
       "      <td>21613.00</td>\n",
       "      <td>21613.00</td>\n",
       "      <td>21613.00</td>\n",
       "      <td>21613.00</td>\n",
       "      <td>21613.00</td>\n",
       "      <td>21613.00</td>\n",
       "      <td>21613.00</td>\n",
       "    </tr>\n",
       "    <tr>\n",
       "      <th>mean</th>\n",
       "      <td>4580301520.86</td>\n",
       "      <td>540088.14</td>\n",
       "      <td>3.37</td>\n",
       "      <td>2.11</td>\n",
       "      <td>2079.90</td>\n",
       "      <td>15106.97</td>\n",
       "      <td>1.49</td>\n",
       "      <td>0.01</td>\n",
       "      <td>0.23</td>\n",
       "      <td>3.41</td>\n",
       "      <td>7.66</td>\n",
       "      <td>1788.39</td>\n",
       "      <td>291.51</td>\n",
       "      <td>1971.01</td>\n",
       "      <td>84.40</td>\n",
       "      <td>98077.94</td>\n",
       "      <td>47.56</td>\n",
       "      <td>-122.21</td>\n",
       "      <td>1986.55</td>\n",
       "      <td>12768.46</td>\n",
       "    </tr>\n",
       "    <tr>\n",
       "      <th>std</th>\n",
       "      <td>2876565571.31</td>\n",
       "      <td>367127.20</td>\n",
       "      <td>0.93</td>\n",
       "      <td>0.77</td>\n",
       "      <td>918.44</td>\n",
       "      <td>41420.51</td>\n",
       "      <td>0.54</td>\n",
       "      <td>0.09</td>\n",
       "      <td>0.77</td>\n",
       "      <td>0.65</td>\n",
       "      <td>1.18</td>\n",
       "      <td>828.09</td>\n",
       "      <td>442.58</td>\n",
       "      <td>29.37</td>\n",
       "      <td>401.68</td>\n",
       "      <td>53.51</td>\n",
       "      <td>0.14</td>\n",
       "      <td>0.14</td>\n",
       "      <td>685.39</td>\n",
       "      <td>27304.18</td>\n",
       "    </tr>\n",
       "    <tr>\n",
       "      <th>min</th>\n",
       "      <td>1000102.00</td>\n",
       "      <td>75000.00</td>\n",
       "      <td>0.00</td>\n",
       "      <td>0.00</td>\n",
       "      <td>290.00</td>\n",
       "      <td>520.00</td>\n",
       "      <td>1.00</td>\n",
       "      <td>0.00</td>\n",
       "      <td>0.00</td>\n",
       "      <td>1.00</td>\n",
       "      <td>1.00</td>\n",
       "      <td>290.00</td>\n",
       "      <td>0.00</td>\n",
       "      <td>1900.00</td>\n",
       "      <td>0.00</td>\n",
       "      <td>98001.00</td>\n",
       "      <td>47.16</td>\n",
       "      <td>-122.52</td>\n",
       "      <td>399.00</td>\n",
       "      <td>651.00</td>\n",
       "    </tr>\n",
       "    <tr>\n",
       "      <th>25%</th>\n",
       "      <td>2123049194.00</td>\n",
       "      <td>321950.00</td>\n",
       "      <td>3.00</td>\n",
       "      <td>1.75</td>\n",
       "      <td>1427.00</td>\n",
       "      <td>5040.00</td>\n",
       "      <td>1.00</td>\n",
       "      <td>0.00</td>\n",
       "      <td>0.00</td>\n",
       "      <td>3.00</td>\n",
       "      <td>7.00</td>\n",
       "      <td>1190.00</td>\n",
       "      <td>0.00</td>\n",
       "      <td>1951.00</td>\n",
       "      <td>0.00</td>\n",
       "      <td>98033.00</td>\n",
       "      <td>47.47</td>\n",
       "      <td>-122.33</td>\n",
       "      <td>1490.00</td>\n",
       "      <td>5100.00</td>\n",
       "    </tr>\n",
       "    <tr>\n",
       "      <th>50%</th>\n",
       "      <td>3904930410.00</td>\n",
       "      <td>450000.00</td>\n",
       "      <td>3.00</td>\n",
       "      <td>2.25</td>\n",
       "      <td>1910.00</td>\n",
       "      <td>7618.00</td>\n",
       "      <td>1.50</td>\n",
       "      <td>0.00</td>\n",
       "      <td>0.00</td>\n",
       "      <td>3.00</td>\n",
       "      <td>7.00</td>\n",
       "      <td>1560.00</td>\n",
       "      <td>0.00</td>\n",
       "      <td>1975.00</td>\n",
       "      <td>0.00</td>\n",
       "      <td>98065.00</td>\n",
       "      <td>47.57</td>\n",
       "      <td>-122.23</td>\n",
       "      <td>1840.00</td>\n",
       "      <td>7620.00</td>\n",
       "    </tr>\n",
       "    <tr>\n",
       "      <th>75%</th>\n",
       "      <td>7308900445.00</td>\n",
       "      <td>645000.00</td>\n",
       "      <td>4.00</td>\n",
       "      <td>2.50</td>\n",
       "      <td>2550.00</td>\n",
       "      <td>10688.00</td>\n",
       "      <td>2.00</td>\n",
       "      <td>0.00</td>\n",
       "      <td>0.00</td>\n",
       "      <td>4.00</td>\n",
       "      <td>8.00</td>\n",
       "      <td>2210.00</td>\n",
       "      <td>560.00</td>\n",
       "      <td>1997.00</td>\n",
       "      <td>0.00</td>\n",
       "      <td>98118.00</td>\n",
       "      <td>47.68</td>\n",
       "      <td>-122.12</td>\n",
       "      <td>2360.00</td>\n",
       "      <td>10083.00</td>\n",
       "    </tr>\n",
       "    <tr>\n",
       "      <th>max</th>\n",
       "      <td>9900000190.00</td>\n",
       "      <td>7700000.00</td>\n",
       "      <td>33.00</td>\n",
       "      <td>8.00</td>\n",
       "      <td>13540.00</td>\n",
       "      <td>1651359.00</td>\n",
       "      <td>3.50</td>\n",
       "      <td>1.00</td>\n",
       "      <td>4.00</td>\n",
       "      <td>5.00</td>\n",
       "      <td>13.00</td>\n",
       "      <td>9410.00</td>\n",
       "      <td>4820.00</td>\n",
       "      <td>2015.00</td>\n",
       "      <td>2015.00</td>\n",
       "      <td>98199.00</td>\n",
       "      <td>47.78</td>\n",
       "      <td>-121.31</td>\n",
       "      <td>6210.00</td>\n",
       "      <td>871200.00</td>\n",
       "    </tr>\n",
       "  </tbody>\n",
       "</table>\n",
       "</div>"
      ],
      "text/plain": [
       "                 id      price  bedrooms  bathrooms  sqft_living   sqft_lot  \\\n",
       "count      21613.00   21613.00  21613.00   21613.00     21613.00   21613.00   \n",
       "mean  4580301520.86  540088.14      3.37       2.11      2079.90   15106.97   \n",
       "std   2876565571.31  367127.20      0.93       0.77       918.44   41420.51   \n",
       "min      1000102.00   75000.00      0.00       0.00       290.00     520.00   \n",
       "25%   2123049194.00  321950.00      3.00       1.75      1427.00    5040.00   \n",
       "50%   3904930410.00  450000.00      3.00       2.25      1910.00    7618.00   \n",
       "75%   7308900445.00  645000.00      4.00       2.50      2550.00   10688.00   \n",
       "max   9900000190.00 7700000.00     33.00       8.00     13540.00 1651359.00   \n",
       "\n",
       "        floors  waterfront     view  condition    grade  sqft_above  \\\n",
       "count 21613.00    21613.00 21613.00   21613.00 21613.00    21613.00   \n",
       "mean      1.49        0.01     0.23       3.41     7.66     1788.39   \n",
       "std       0.54        0.09     0.77       0.65     1.18      828.09   \n",
       "min       1.00        0.00     0.00       1.00     1.00      290.00   \n",
       "25%       1.00        0.00     0.00       3.00     7.00     1190.00   \n",
       "50%       1.50        0.00     0.00       3.00     7.00     1560.00   \n",
       "75%       2.00        0.00     0.00       4.00     8.00     2210.00   \n",
       "max       3.50        1.00     4.00       5.00    13.00     9410.00   \n",
       "\n",
       "       sqft_basement  yr_built  yr_renovated  zipcode      lat     long  \\\n",
       "count       21613.00  21613.00      21613.00 21613.00 21613.00 21613.00   \n",
       "mean          291.51   1971.01         84.40 98077.94    47.56  -122.21   \n",
       "std           442.58     29.37        401.68    53.51     0.14     0.14   \n",
       "min             0.00   1900.00          0.00 98001.00    47.16  -122.52   \n",
       "25%             0.00   1951.00          0.00 98033.00    47.47  -122.33   \n",
       "50%             0.00   1975.00          0.00 98065.00    47.57  -122.23   \n",
       "75%           560.00   1997.00          0.00 98118.00    47.68  -122.12   \n",
       "max          4820.00   2015.00       2015.00 98199.00    47.78  -121.31   \n",
       "\n",
       "       sqft_living15  sqft_lot15  \n",
       "count       21613.00    21613.00  \n",
       "mean         1986.55    12768.46  \n",
       "std           685.39    27304.18  \n",
       "min           399.00      651.00  \n",
       "25%          1490.00     5100.00  \n",
       "50%          1840.00     7620.00  \n",
       "75%          2360.00    10083.00  \n",
       "max          6210.00   871200.00  "
      ]
     },
     "execution_count": 5,
     "metadata": {},
     "output_type": "execute_result"
    }
   ],
   "source": [
    "data.describe()"
   ]
  },
  {
   "cell_type": "markdown",
   "metadata": {},
   "source": [
    "Checando por linhas com todos os campos duplicados."
   ]
  },
  {
   "cell_type": "code",
   "execution_count": 6,
   "metadata": {},
   "outputs": [
    {
     "data": {
      "text/plain": [
       "0"
      ]
     },
     "execution_count": 6,
     "metadata": {},
     "output_type": "execute_result"
    }
   ],
   "source": [
    "data.duplicated().sum()"
   ]
  },
  {
   "cell_type": "markdown",
   "metadata": {},
   "source": [
    "Checando por valores nulos, mas como o observado no output do método 'info()', não há valores nulos por agora."
   ]
  },
  {
   "cell_type": "code",
   "execution_count": 7,
   "metadata": {},
   "outputs": [
    {
     "data": {
      "text/plain": [
       "0"
      ]
     },
     "execution_count": 7,
     "metadata": {},
     "output_type": "execute_result"
    }
   ],
   "source": [
    "data.isna().any().sum()"
   ]
  },
  {
   "cell_type": "markdown",
   "metadata": {},
   "source": [
    "Validando os tipos dos dados das variáveis, realizando castings apropriados."
   ]
  },
  {
   "cell_type": "code",
   "execution_count": 8,
   "metadata": {},
   "outputs": [
    {
     "data": {
      "text/plain": [
       "id                 int64\n",
       "date              object\n",
       "price            float64\n",
       "bedrooms           int64\n",
       "bathrooms        float64\n",
       "sqft_living        int64\n",
       "sqft_lot           int64\n",
       "floors           float64\n",
       "waterfront         int64\n",
       "view               int64\n",
       "condition          int64\n",
       "grade              int64\n",
       "sqft_above         int64\n",
       "sqft_basement      int64\n",
       "yr_built           int64\n",
       "yr_renovated       int64\n",
       "zipcode            int64\n",
       "lat              float64\n",
       "long             float64\n",
       "sqft_living15      int64\n",
       "sqft_lot15         int64\n",
       "dtype: object"
      ]
     },
     "execution_count": 8,
     "metadata": {},
     "output_type": "execute_result"
    }
   ],
   "source": [
    "data.dtypes"
   ]
  },
  {
   "cell_type": "markdown",
   "metadata": {},
   "source": [
    "# 4) Transformação dos Dados"
   ]
  },
  {
   "cell_type": "markdown",
   "metadata": {},
   "source": [
    "Criando algumas funções que irão auxiliar ao longo da análise."
   ]
  },
  {
   "cell_type": "code",
   "execution_count": 9,
   "metadata": {},
   "outputs": [],
   "source": [
    "# Calcula valores máximos e mínimos que dados após esses valores serão considerados como Outliers\n",
    "def find_outlier_trashhold(quantile, col, data, factor=2):\n",
    "    iqr = data[col].quantile(0.75) - data[col].quantile(0.25)\n",
    "    trash_hold = iqr * factor\n",
    "    if (quantile > 0.25):\n",
    "        return data[col].quantile(0.75) + trash_hold\n",
    "    else:\n",
    "        return data[col].quantile(0.25) - trash_hold"
   ]
  },
  {
   "cell_type": "code",
   "execution_count": 10,
   "metadata": {},
   "outputs": [],
   "source": [
    "def remove_outliers(data, cols):\n",
    "    \"\"\"\n",
    "    Retorna um dataframe após a remoção dos outliers.\n",
    "    \n",
    "    :param data: O dataframe a ter seus valores outliers removidos.\n",
    "    :type data: DataFrame\n",
    "    :param cols: Colunas específicas do dataframe que passarão pelo processo de exclusão dos outliers.\n",
    "    :type cols: Lista\n",
    "    \"\"\"\n",
    "    for col in cols:\n",
    "        data = data.loc[(data[col] > find_outlier_trashhold(0.25, col, data)) & (data[col] < find_outlier_trashhold(0.75, col, data))]\n",
    "    return data"
   ]
  },
  {
   "cell_type": "code",
   "execution_count": 11,
   "metadata": {},
   "outputs": [],
   "source": [
    "def define_season_by_date(date):\n",
    "    year = date.year\n",
    "    winter1 = pd.date_range(start=f'{year-1}-12-01', end=f'{year}-02-28')\n",
    "    spring = pd.date_range(start=f'{year}-03-01', end=f'{year}-05-31')\n",
    "    summer = pd.date_range(start=f'{year}-06-01', end=f'{year}-08-31')\n",
    "    fall = pd.date_range(start=f'{year}-09-01', end=f'{year}-11-30')\n",
    "    winter2 = pd.date_range(start=f'{year}-12-01', end=f'{year+2}-02-28')\n",
    "    if date in spring:\n",
    "        return 'spring'\n",
    "    elif date in summer:\n",
    "        return 'summer'\n",
    "    elif date in fall:\n",
    "        return 'fall'\n",
    "    elif (date in winter1) or (date in winter2):\n",
    "        return 'winter'\n",
    "    else:\n",
    "        return np.NaN"
   ]
  },
  {
   "cell_type": "code",
   "execution_count": 12,
   "metadata": {},
   "outputs": [],
   "source": [
    "def diff_mean(val1, val2):\n",
    "    percent = round(100*(val2 - val1)/val1,2)\n",
    "    return percent"
   ]
  },
  {
   "cell_type": "code",
   "execution_count": 13,
   "metadata": {},
   "outputs": [],
   "source": [
    "def calculate_consecutive_percentage(df, col):\n",
    "    arr1=[]\n",
    "    for i in range(1, df.shape[0]-1):\n",
    "        val1=df.loc[i-1, col]\n",
    "        val2=df.loc[i, col]\n",
    "        result=diff_mean(val1, val2)\n",
    "        arr1.append(result)\n",
    "\n",
    "    return np.mean(arr1)"
   ]
  },
  {
   "cell_type": "markdown",
   "metadata": {},
   "source": [
    "Precisaremos realizar algumas transformações nos tipos de dados de algumas variáveis, nomeadamente:\n",
    "- date: datetime\n",
    "- condition: category\n",
    "- waterfront: category"
   ]
  },
  {
   "cell_type": "code",
   "execution_count": 14,
   "metadata": {},
   "outputs": [
    {
     "data": {
      "text/plain": [
       "dtype('<M8[ns]')"
      ]
     },
     "execution_count": 14,
     "metadata": {},
     "output_type": "execute_result"
    }
   ],
   "source": [
    "data['date'] = pd.to_datetime(data['date'])\n",
    "data['date'].dtype"
   ]
  },
  {
   "cell_type": "code",
   "execution_count": 15,
   "metadata": {},
   "outputs": [
    {
     "data": {
      "text/plain": [
       "[3, 5, 4, 1, 2]\n",
       "Categories (5, int64): [1, 2, 3, 4, 5]"
      ]
     },
     "execution_count": 15,
     "metadata": {},
     "output_type": "execute_result"
    }
   ],
   "source": [
    "data['condition'] = data['condition'].astype('category')\n",
    "data['condition'].unique()"
   ]
  },
  {
   "cell_type": "code",
   "execution_count": 16,
   "metadata": {},
   "outputs": [
    {
     "data": {
      "text/plain": [
       "[0, 1]\n",
       "Categories (2, int64): [0, 1]"
      ]
     },
     "execution_count": 16,
     "metadata": {},
     "output_type": "execute_result"
    }
   ],
   "source": [
    "data['waterfront'] = data['waterfront'].astype('category')\n",
    "data['waterfront'].unique()"
   ]
  },
  {
   "cell_type": "code",
   "execution_count": 17,
   "metadata": {},
   "outputs": [
    {
     "data": {
      "text/plain": [
       "[0, 3, 4, 2, 1]\n",
       "Categories (5, int64): [0, 1, 2, 3, 4]"
      ]
     },
     "execution_count": 17,
     "metadata": {},
     "output_type": "execute_result"
    }
   ],
   "source": [
    "data['view'] = data['view'].astype('category')\n",
    "data['view'].unique()"
   ]
  },
  {
   "cell_type": "code",
   "execution_count": 18,
   "metadata": {},
   "outputs": [],
   "source": [
    "data_numeric, data_category = data.select_dtypes(include=['int', 'float']), data.select_dtypes(exclude=['int', 'float'])"
   ]
  },
  {
   "cell_type": "code",
   "execution_count": 19,
   "metadata": {},
   "outputs": [
    {
     "name": "stderr",
     "output_type": "stream",
     "text": [
      "/tmp/ipykernel_5793/3387595875.py:1: FutureWarning: Treating datetime data as categorical rather than numeric in `.describe` is deprecated and will be removed in a future version of pandas. Specify `datetime_is_numeric=True` to silence this warning and adopt the future behavior now.\n",
      "  data_category.describe()\n"
     ]
    },
    {
     "data": {
      "text/html": [
       "<div>\n",
       "<style scoped>\n",
       "    .dataframe tbody tr th:only-of-type {\n",
       "        vertical-align: middle;\n",
       "    }\n",
       "\n",
       "    .dataframe tbody tr th {\n",
       "        vertical-align: top;\n",
       "    }\n",
       "\n",
       "    .dataframe thead th {\n",
       "        text-align: right;\n",
       "    }\n",
       "</style>\n",
       "<table border=\"1\" class=\"dataframe\">\n",
       "  <thead>\n",
       "    <tr style=\"text-align: right;\">\n",
       "      <th></th>\n",
       "      <th>date</th>\n",
       "      <th>waterfront</th>\n",
       "      <th>view</th>\n",
       "      <th>condition</th>\n",
       "    </tr>\n",
       "  </thead>\n",
       "  <tbody>\n",
       "    <tr>\n",
       "      <th>count</th>\n",
       "      <td>21613</td>\n",
       "      <td>21613.00</td>\n",
       "      <td>21613.00</td>\n",
       "      <td>21613.00</td>\n",
       "    </tr>\n",
       "    <tr>\n",
       "      <th>unique</th>\n",
       "      <td>372</td>\n",
       "      <td>2.00</td>\n",
       "      <td>5.00</td>\n",
       "      <td>5.00</td>\n",
       "    </tr>\n",
       "    <tr>\n",
       "      <th>top</th>\n",
       "      <td>2014-06-23 00:00:00</td>\n",
       "      <td>0.00</td>\n",
       "      <td>0.00</td>\n",
       "      <td>3.00</td>\n",
       "    </tr>\n",
       "    <tr>\n",
       "      <th>freq</th>\n",
       "      <td>142</td>\n",
       "      <td>21450.00</td>\n",
       "      <td>19489.00</td>\n",
       "      <td>14031.00</td>\n",
       "    </tr>\n",
       "    <tr>\n",
       "      <th>first</th>\n",
       "      <td>2014-05-02 00:00:00</td>\n",
       "      <td>NaN</td>\n",
       "      <td>NaN</td>\n",
       "      <td>NaN</td>\n",
       "    </tr>\n",
       "    <tr>\n",
       "      <th>last</th>\n",
       "      <td>2015-05-27 00:00:00</td>\n",
       "      <td>NaN</td>\n",
       "      <td>NaN</td>\n",
       "      <td>NaN</td>\n",
       "    </tr>\n",
       "  </tbody>\n",
       "</table>\n",
       "</div>"
      ],
      "text/plain": [
       "                       date  waterfront     view  condition\n",
       "count                 21613    21613.00 21613.00   21613.00\n",
       "unique                  372        2.00     5.00       5.00\n",
       "top     2014-06-23 00:00:00        0.00     0.00       3.00\n",
       "freq                    142    21450.00 19489.00   14031.00\n",
       "first   2014-05-02 00:00:00         NaN      NaN        NaN\n",
       "last    2015-05-27 00:00:00         NaN      NaN        NaN"
      ]
     },
     "execution_count": 19,
     "metadata": {},
     "output_type": "execute_result"
    }
   ],
   "source": [
    "data_category.describe()"
   ]
  },
  {
   "cell_type": "markdown",
   "metadata": {},
   "source": [
    "Criando novas colunas que nos auxiliarão ao longo das análises"
   ]
  },
  {
   "cell_type": "code",
   "execution_count": 20,
   "metadata": {},
   "outputs": [],
   "source": [
    "data['has_basement'] = data.apply(lambda x: 1 if x['sqft_basement'] != 0 else 0, axis=1)\n",
    "data['has_basement'] = data['has_basement'].astype('category')"
   ]
  },
  {
   "cell_type": "code",
   "execution_count": 21,
   "metadata": {},
   "outputs": [],
   "source": [
    "data['new_house'] = data.apply(lambda x: 1 if x['yr_built'] < 1955 else 0, axis=1)\n",
    "data['new_house'] = data['new_house'].astype('category')"
   ]
  },
  {
   "cell_type": "code",
   "execution_count": 22,
   "metadata": {},
   "outputs": [
    {
     "name": "stderr",
     "output_type": "stream",
     "text": [
      "/tmp/ipykernel_5793/3888575137.py:1: FutureWarning: Series.dt.weekofyear and Series.dt.week have been deprecated. Please use Series.dt.isocalendar().week instead.\n",
      "  data['week'] = data['date'].dt.week\n"
     ]
    }
   ],
   "source": [
    "data['week'] = data['date'].dt.week\n",
    "data['month'] = data['date'].dt.month\n",
    "data['year'] = data['date'].dt.year"
   ]
  },
  {
   "cell_type": "code",
   "execution_count": 23,
   "metadata": {},
   "outputs": [
    {
     "data": {
      "text/html": [
       "<div>\n",
       "<style scoped>\n",
       "    .dataframe tbody tr th:only-of-type {\n",
       "        vertical-align: middle;\n",
       "    }\n",
       "\n",
       "    .dataframe tbody tr th {\n",
       "        vertical-align: top;\n",
       "    }\n",
       "\n",
       "    .dataframe thead th {\n",
       "        text-align: right;\n",
       "    }\n",
       "</style>\n",
       "<table border=\"1\" class=\"dataframe\">\n",
       "  <thead>\n",
       "    <tr style=\"text-align: right;\">\n",
       "      <th></th>\n",
       "      <th>id</th>\n",
       "      <th>date</th>\n",
       "      <th>price</th>\n",
       "      <th>bedrooms</th>\n",
       "      <th>bathrooms</th>\n",
       "      <th>sqft_living</th>\n",
       "      <th>sqft_lot</th>\n",
       "      <th>floors</th>\n",
       "      <th>waterfront</th>\n",
       "      <th>view</th>\n",
       "      <th>...</th>\n",
       "      <th>lat</th>\n",
       "      <th>long</th>\n",
       "      <th>sqft_living15</th>\n",
       "      <th>sqft_lot15</th>\n",
       "      <th>has_basement</th>\n",
       "      <th>new_house</th>\n",
       "      <th>week</th>\n",
       "      <th>month</th>\n",
       "      <th>year</th>\n",
       "      <th>season</th>\n",
       "    </tr>\n",
       "  </thead>\n",
       "  <tbody>\n",
       "    <tr>\n",
       "      <th>0</th>\n",
       "      <td>7129300520</td>\n",
       "      <td>2014-10-13</td>\n",
       "      <td>221900.00</td>\n",
       "      <td>3</td>\n",
       "      <td>1.00</td>\n",
       "      <td>1180</td>\n",
       "      <td>5650</td>\n",
       "      <td>1.00</td>\n",
       "      <td>0</td>\n",
       "      <td>0</td>\n",
       "      <td>...</td>\n",
       "      <td>47.51</td>\n",
       "      <td>-122.26</td>\n",
       "      <td>1340</td>\n",
       "      <td>5650</td>\n",
       "      <td>0</td>\n",
       "      <td>0</td>\n",
       "      <td>42</td>\n",
       "      <td>10</td>\n",
       "      <td>2014</td>\n",
       "      <td>fall</td>\n",
       "    </tr>\n",
       "    <tr>\n",
       "      <th>1</th>\n",
       "      <td>6414100192</td>\n",
       "      <td>2014-12-09</td>\n",
       "      <td>538000.00</td>\n",
       "      <td>3</td>\n",
       "      <td>2.25</td>\n",
       "      <td>2570</td>\n",
       "      <td>7242</td>\n",
       "      <td>2.00</td>\n",
       "      <td>0</td>\n",
       "      <td>0</td>\n",
       "      <td>...</td>\n",
       "      <td>47.72</td>\n",
       "      <td>-122.32</td>\n",
       "      <td>1690</td>\n",
       "      <td>7639</td>\n",
       "      <td>1</td>\n",
       "      <td>1</td>\n",
       "      <td>50</td>\n",
       "      <td>12</td>\n",
       "      <td>2014</td>\n",
       "      <td>winter</td>\n",
       "    </tr>\n",
       "    <tr>\n",
       "      <th>2</th>\n",
       "      <td>5631500400</td>\n",
       "      <td>2015-02-25</td>\n",
       "      <td>180000.00</td>\n",
       "      <td>2</td>\n",
       "      <td>1.00</td>\n",
       "      <td>770</td>\n",
       "      <td>10000</td>\n",
       "      <td>1.00</td>\n",
       "      <td>0</td>\n",
       "      <td>0</td>\n",
       "      <td>...</td>\n",
       "      <td>47.74</td>\n",
       "      <td>-122.23</td>\n",
       "      <td>2720</td>\n",
       "      <td>8062</td>\n",
       "      <td>0</td>\n",
       "      <td>1</td>\n",
       "      <td>9</td>\n",
       "      <td>2</td>\n",
       "      <td>2015</td>\n",
       "      <td>winter</td>\n",
       "    </tr>\n",
       "    <tr>\n",
       "      <th>3</th>\n",
       "      <td>2487200875</td>\n",
       "      <td>2014-12-09</td>\n",
       "      <td>604000.00</td>\n",
       "      <td>4</td>\n",
       "      <td>3.00</td>\n",
       "      <td>1960</td>\n",
       "      <td>5000</td>\n",
       "      <td>1.00</td>\n",
       "      <td>0</td>\n",
       "      <td>0</td>\n",
       "      <td>...</td>\n",
       "      <td>47.52</td>\n",
       "      <td>-122.39</td>\n",
       "      <td>1360</td>\n",
       "      <td>5000</td>\n",
       "      <td>1</td>\n",
       "      <td>0</td>\n",
       "      <td>50</td>\n",
       "      <td>12</td>\n",
       "      <td>2014</td>\n",
       "      <td>winter</td>\n",
       "    </tr>\n",
       "    <tr>\n",
       "      <th>4</th>\n",
       "      <td>1954400510</td>\n",
       "      <td>2015-02-18</td>\n",
       "      <td>510000.00</td>\n",
       "      <td>3</td>\n",
       "      <td>2.00</td>\n",
       "      <td>1680</td>\n",
       "      <td>8080</td>\n",
       "      <td>1.00</td>\n",
       "      <td>0</td>\n",
       "      <td>0</td>\n",
       "      <td>...</td>\n",
       "      <td>47.62</td>\n",
       "      <td>-122.05</td>\n",
       "      <td>1800</td>\n",
       "      <td>7503</td>\n",
       "      <td>0</td>\n",
       "      <td>0</td>\n",
       "      <td>8</td>\n",
       "      <td>2</td>\n",
       "      <td>2015</td>\n",
       "      <td>winter</td>\n",
       "    </tr>\n",
       "  </tbody>\n",
       "</table>\n",
       "<p>5 rows × 27 columns</p>\n",
       "</div>"
      ],
      "text/plain": [
       "           id       date     price  bedrooms  bathrooms  sqft_living  \\\n",
       "0  7129300520 2014-10-13 221900.00         3       1.00         1180   \n",
       "1  6414100192 2014-12-09 538000.00         3       2.25         2570   \n",
       "2  5631500400 2015-02-25 180000.00         2       1.00          770   \n",
       "3  2487200875 2014-12-09 604000.00         4       3.00         1960   \n",
       "4  1954400510 2015-02-18 510000.00         3       2.00         1680   \n",
       "\n",
       "   sqft_lot  floors waterfront view  ...   lat    long  sqft_living15  \\\n",
       "0      5650    1.00          0    0  ... 47.51 -122.26           1340   \n",
       "1      7242    2.00          0    0  ... 47.72 -122.32           1690   \n",
       "2     10000    1.00          0    0  ... 47.74 -122.23           2720   \n",
       "3      5000    1.00          0    0  ... 47.52 -122.39           1360   \n",
       "4      8080    1.00          0    0  ... 47.62 -122.05           1800   \n",
       "\n",
       "   sqft_lot15  has_basement  new_house  week  month  year  season  \n",
       "0        5650             0          0    42     10  2014    fall  \n",
       "1        7639             1          1    50     12  2014  winter  \n",
       "2        8062             0          1     9      2  2015  winter  \n",
       "3        5000             1          0    50     12  2014  winter  \n",
       "4        7503             0          0     8      2  2015  winter  \n",
       "\n",
       "[5 rows x 27 columns]"
      ]
     },
     "execution_count": 23,
     "metadata": {},
     "output_type": "execute_result"
    }
   ],
   "source": [
    "data['season'] = data['date'].map(define_season_by_date)\n",
    "data.head()"
   ]
  },
  {
   "cell_type": "markdown",
   "metadata": {},
   "source": [
    "# 5) Análise Exploratória dos Dados"
   ]
  },
  {
   "cell_type": "markdown",
   "metadata": {},
   "source": [
    "Analisando a distribuição da variável `price`"
   ]
  },
  {
   "cell_type": "code",
   "execution_count": 24,
   "metadata": {},
   "outputs": [
    {
     "data": {
      "image/png": "[encoded data removed]",
      "text/plain": [
       "<Figure size 864x432 with 1 Axes>"
      ]
     },
     "metadata": {
      "needs_background": "light"
     },
     "output_type": "display_data"
    }
   ],
   "source": [
    "fig, ax = plt.subplots(figsize=(12, 6))\n",
    "\n",
    "sns.histplot(data['price'], kde=True, ax=ax)\n",
    "ax.axvline(x=data['price'].mean(), label='Mean', linestyle='--', color='r')\n",
    "ax.axvline(x=data['price'].median(), label='Median', linestyle='--', color='g')\n",
    "ax.legend()\n",
    "\n",
    "plt.show()"
   ]
  },
  {
   "cell_type": "markdown",
   "metadata": {},
   "source": [
    "Nota-se que a distribuição está inclinada para a esquerda, caracterizando uma Positively Skewed Distribution. Além disso, nota-se que os dados não estão muito compactos, também indicando uma maior dispersão entre eles. Apesar disso é visível que os valores da média e mediana estão relativamente próximos, podemos tirar como conclusão que apesar de existirem outliers, seus valores não são tão extremos assim."
   ]
  },
  {
   "cell_type": "markdown",
   "metadata": {},
   "source": [
    "### Removendo outliers"
   ]
  },
  {
   "cell_type": "code",
   "execution_count": 25,
   "metadata": {},
   "outputs": [
    {
     "data": {
      "text/plain": [
       "(21613, 27)"
      ]
     },
     "execution_count": 25,
     "metadata": {},
     "output_type": "execute_result"
    }
   ],
   "source": [
    "data.shape"
   ]
  },
  {
   "cell_type": "code",
   "execution_count": 26,
   "metadata": {},
   "outputs": [],
   "source": [
    "data_shortened = data.copy()"
   ]
  },
  {
   "cell_type": "code",
   "execution_count": 27,
   "metadata": {},
   "outputs": [],
   "source": [
    "# Removendo outliers de todas as variáveis numéricas do dataframe, passadas como segundo parâmetro para a função. \n",
    "# Generalizando como outliers valores acima ou abaixo de 2 vezes o valor do IQR da variável.\n",
    "data_shortened = remove_outliers(data_shortened, ['price', 'bedrooms', 'bathrooms', \\\n",
    "       'sqft_living', 'sqft_lot', 'floors'])"
   ]
  },
  {
   "cell_type": "code",
   "execution_count": 28,
   "metadata": {},
   "outputs": [
    {
     "data": {
      "text/plain": [
       "(18243, 27)"
      ]
     },
     "execution_count": 28,
     "metadata": {},
     "output_type": "execute_result"
    }
   ],
   "source": [
    "data_shortened.shape"
   ]
  },
  {
   "cell_type": "code",
   "execution_count": 29,
   "metadata": {},
   "outputs": [],
   "source": [
    "data = data_shortened"
   ]
  },
  {
   "cell_type": "code",
   "execution_count": 30,
   "metadata": {},
   "outputs": [
    {
     "data": {
      "image/png": "[encoded data removed]",
      "text/plain": [
       "<Figure size 864x432 with 1 Axes>"
      ]
     },
     "metadata": {
      "needs_background": "light"
     },
     "output_type": "display_data"
    }
   ],
   "source": [
    "fig, ax = plt.subplots(figsize=(12, 6))\n",
    "\n",
    "sns.violinplot(y=data['price'], width=.5)\n",
    "\n",
    "plt.show()"
   ]
  },
  {
   "cell_type": "code",
   "execution_count": 31,
   "metadata": {},
   "outputs": [
    {
     "data": {
      "image/png": "[encoded data removed]",
      "text/plain": [
       "<Figure size 1152x432 with 1 Axes>"
      ]
     },
     "metadata": {
      "needs_background": "light"
     },
     "output_type": "display_data"
    }
   ],
   "source": [
    "fig, ax = plt.subplots(figsize=(16, 6))\n",
    "\n",
    "sns.boxplot(data=data[['bedrooms', 'bathrooms', 'floors']])\n",
    "\n",
    "plt.show()"
   ]
  },
  {
   "cell_type": "code",
   "execution_count": 32,
   "metadata": {},
   "outputs": [
    {
     "data": {
      "image/png": "[encoded data removed]",
      "text/plain": [
       "<Figure size 1152x432 with 1 Axes>"
      ]
     },
     "metadata": {
      "needs_background": "light"
     },
     "output_type": "display_data"
    }
   ],
   "source": [
    "fig, ax = plt.subplots(figsize=(16, 6))\n",
    "\n",
    "sns.boxenplot(data=data[['sqft_living', 'sqft_lot','sqft_above', 'sqft_basement']])\n",
    "\n",
    "plt.show()"
   ]
  },
  {
   "cell_type": "markdown",
   "metadata": {},
   "source": [
    "### Gerando **Relatório 1**: \n",
    "#### **1) Quais os imóveis que a House Rocket deveria comprar e por qual preço?**"
   ]
  },
  {
   "cell_type": "code",
   "execution_count": 33,
   "metadata": {},
   "outputs": [
    {
     "data": {
      "text/plain": [
       "Index(['id', 'date', 'price', 'bedrooms', 'bathrooms', 'sqft_living',\n",
       "       'sqft_lot', 'floors', 'waterfront', 'view', 'condition', 'grade',\n",
       "       'sqft_above', 'sqft_basement', 'yr_built', 'yr_renovated', 'zipcode',\n",
       "       'lat', 'long', 'sqft_living15', 'sqft_lot15', 'has_basement',\n",
       "       'new_house', 'week', 'month', 'year', 'season'],\n",
       "      dtype='object')"
      ]
     },
     "execution_count": 33,
     "metadata": {},
     "output_type": "execute_result"
    }
   ],
   "source": [
    "data.columns"
   ]
  },
  {
   "cell_type": "markdown",
   "metadata": {},
   "source": [
    "Criando um novo objeto dataframe que é uma copia do DF que vinhamos trabalhando até então, armazeno os nomes das colunas ue serão mantidas para o DF final e por fim, agrupo os dados pela variável zipcode (região) e aplico a mediana dos preços de cada grupo, salvando no DF `df_median_price`."
   ]
  },
  {
   "cell_type": "code",
   "execution_count": 34,
   "metadata": {},
   "outputs": [
    {
     "data": {
      "text/html": [
       "<div>\n",
       "<style scoped>\n",
       "    .dataframe tbody tr th:only-of-type {\n",
       "        vertical-align: middle;\n",
       "    }\n",
       "\n",
       "    .dataframe tbody tr th {\n",
       "        vertical-align: top;\n",
       "    }\n",
       "\n",
       "    .dataframe thead th {\n",
       "        text-align: right;\n",
       "    }\n",
       "</style>\n",
       "<table border=\"1\" class=\"dataframe\">\n",
       "  <thead>\n",
       "    <tr style=\"text-align: right;\">\n",
       "      <th></th>\n",
       "      <th>price</th>\n",
       "    </tr>\n",
       "    <tr>\n",
       "      <th>zipcode</th>\n",
       "      <th></th>\n",
       "    </tr>\n",
       "  </thead>\n",
       "  <tbody>\n",
       "    <tr>\n",
       "      <th>98001</th>\n",
       "      <td>256000.00</td>\n",
       "    </tr>\n",
       "    <tr>\n",
       "      <th>98002</th>\n",
       "      <td>234000.00</td>\n",
       "    </tr>\n",
       "    <tr>\n",
       "      <th>98003</th>\n",
       "      <td>263750.00</td>\n",
       "    </tr>\n",
       "    <tr>\n",
       "      <th>98004</th>\n",
       "      <td>867500.00</td>\n",
       "    </tr>\n",
       "    <tr>\n",
       "      <th>98005</th>\n",
       "      <td>710000.00</td>\n",
       "    </tr>\n",
       "  </tbody>\n",
       "</table>\n",
       "</div>"
      ],
      "text/plain": [
       "            price\n",
       "zipcode          \n",
       "98001   256000.00\n",
       "98002   234000.00\n",
       "98003   263750.00\n",
       "98004   867500.00\n",
       "98005   710000.00"
      ]
     },
     "execution_count": 34,
     "metadata": {},
     "output_type": "execute_result"
    }
   ],
   "source": [
    "df_rep1 = data.copy()\n",
    "rel_cols = ['id', 'date', 'zipcode', 'season', 'price','Median Price', 'condition', 'status']\n",
    "df_median_price = data.groupby('zipcode').agg({'price': 'median'})\n",
    "df_median_price.head()"
   ]
  },
  {
   "cell_type": "markdown",
   "metadata": {},
   "source": [
    "**Primeiro Método** para criar coluna *Median Price* apartir do dataframe *df_median_price* no dataframe resultante do relatório 1:<br>\n",
    "* Com o método `map` do Pandas, eu posso iterar sobre uma Series, que neste caso são os valores da coluna *zipcode*, e já que os valores de zipcode do dataframe resultante 1 são os índices do último dataframe resultante do agrupamento, nós podemos utilizar o valor de zipcode de cada linha do DF resultante para obter seu respectivo preço mediano obtido pelo agrupamento anterior."
   ]
  },
  {
   "cell_type": "code",
   "execution_count": 35,
   "metadata": {},
   "outputs": [
    {
     "data": {
      "text/html": [
       "<div>\n",
       "<style scoped>\n",
       "    .dataframe tbody tr th:only-of-type {\n",
       "        vertical-align: middle;\n",
       "    }\n",
       "\n",
       "    .dataframe tbody tr th {\n",
       "        vertical-align: top;\n",
       "    }\n",
       "\n",
       "    .dataframe thead th {\n",
       "        text-align: right;\n",
       "    }\n",
       "</style>\n",
       "<table border=\"1\" class=\"dataframe\">\n",
       "  <thead>\n",
       "    <tr style=\"text-align: right;\">\n",
       "      <th></th>\n",
       "      <th>id</th>\n",
       "      <th>date</th>\n",
       "      <th>price</th>\n",
       "      <th>bedrooms</th>\n",
       "      <th>bathrooms</th>\n",
       "      <th>sqft_living</th>\n",
       "      <th>sqft_lot</th>\n",
       "      <th>floors</th>\n",
       "      <th>waterfront</th>\n",
       "      <th>view</th>\n",
       "      <th>...</th>\n",
       "      <th>long</th>\n",
       "      <th>sqft_living15</th>\n",
       "      <th>sqft_lot15</th>\n",
       "      <th>has_basement</th>\n",
       "      <th>new_house</th>\n",
       "      <th>week</th>\n",
       "      <th>month</th>\n",
       "      <th>year</th>\n",
       "      <th>season</th>\n",
       "      <th>Median Price</th>\n",
       "    </tr>\n",
       "  </thead>\n",
       "  <tbody>\n",
       "    <tr>\n",
       "      <th>0</th>\n",
       "      <td>7129300520</td>\n",
       "      <td>2014-10-13</td>\n",
       "      <td>221900.00</td>\n",
       "      <td>3</td>\n",
       "      <td>1.00</td>\n",
       "      <td>1180</td>\n",
       "      <td>5650</td>\n",
       "      <td>1.00</td>\n",
       "      <td>0</td>\n",
       "      <td>0</td>\n",
       "      <td>...</td>\n",
       "      <td>-122.26</td>\n",
       "      <td>1340</td>\n",
       "      <td>5650</td>\n",
       "      <td>0</td>\n",
       "      <td>0</td>\n",
       "      <td>42</td>\n",
       "      <td>10</td>\n",
       "      <td>2014</td>\n",
       "      <td>fall</td>\n",
       "      <td>275000.00</td>\n",
       "    </tr>\n",
       "    <tr>\n",
       "      <th>1</th>\n",
       "      <td>6414100192</td>\n",
       "      <td>2014-12-09</td>\n",
       "      <td>538000.00</td>\n",
       "      <td>3</td>\n",
       "      <td>2.25</td>\n",
       "      <td>2570</td>\n",
       "      <td>7242</td>\n",
       "      <td>2.00</td>\n",
       "      <td>0</td>\n",
       "      <td>0</td>\n",
       "      <td>...</td>\n",
       "      <td>-122.32</td>\n",
       "      <td>1690</td>\n",
       "      <td>7639</td>\n",
       "      <td>1</td>\n",
       "      <td>1</td>\n",
       "      <td>50</td>\n",
       "      <td>12</td>\n",
       "      <td>2014</td>\n",
       "      <td>winter</td>\n",
       "      <td>422000.00</td>\n",
       "    </tr>\n",
       "    <tr>\n",
       "      <th>2</th>\n",
       "      <td>5631500400</td>\n",
       "      <td>2015-02-25</td>\n",
       "      <td>180000.00</td>\n",
       "      <td>2</td>\n",
       "      <td>1.00</td>\n",
       "      <td>770</td>\n",
       "      <td>10000</td>\n",
       "      <td>1.00</td>\n",
       "      <td>0</td>\n",
       "      <td>0</td>\n",
       "      <td>...</td>\n",
       "      <td>-122.23</td>\n",
       "      <td>2720</td>\n",
       "      <td>8062</td>\n",
       "      <td>0</td>\n",
       "      <td>1</td>\n",
       "      <td>9</td>\n",
       "      <td>2</td>\n",
       "      <td>2015</td>\n",
       "      <td>winter</td>\n",
       "      <td>433000.00</td>\n",
       "    </tr>\n",
       "    <tr>\n",
       "      <th>3</th>\n",
       "      <td>2487200875</td>\n",
       "      <td>2014-12-09</td>\n",
       "      <td>604000.00</td>\n",
       "      <td>4</td>\n",
       "      <td>3.00</td>\n",
       "      <td>1960</td>\n",
       "      <td>5000</td>\n",
       "      <td>1.00</td>\n",
       "      <td>0</td>\n",
       "      <td>0</td>\n",
       "      <td>...</td>\n",
       "      <td>-122.39</td>\n",
       "      <td>1360</td>\n",
       "      <td>5000</td>\n",
       "      <td>1</td>\n",
       "      <td>0</td>\n",
       "      <td>50</td>\n",
       "      <td>12</td>\n",
       "      <td>2014</td>\n",
       "      <td>winter</td>\n",
       "      <td>485000.00</td>\n",
       "    </tr>\n",
       "    <tr>\n",
       "      <th>4</th>\n",
       "      <td>1954400510</td>\n",
       "      <td>2015-02-18</td>\n",
       "      <td>510000.00</td>\n",
       "      <td>3</td>\n",
       "      <td>2.00</td>\n",
       "      <td>1680</td>\n",
       "      <td>8080</td>\n",
       "      <td>1.00</td>\n",
       "      <td>0</td>\n",
       "      <td>0</td>\n",
       "      <td>...</td>\n",
       "      <td>-122.05</td>\n",
       "      <td>1800</td>\n",
       "      <td>7503</td>\n",
       "      <td>0</td>\n",
       "      <td>0</td>\n",
       "      <td>8</td>\n",
       "      <td>2</td>\n",
       "      <td>2015</td>\n",
       "      <td>winter</td>\n",
       "      <td>625000.00</td>\n",
       "    </tr>\n",
       "  </tbody>\n",
       "</table>\n",
       "<p>5 rows × 28 columns</p>\n",
       "</div>"
      ],
      "text/plain": [
       "           id       date     price  bedrooms  bathrooms  sqft_living  \\\n",
       "0  7129300520 2014-10-13 221900.00         3       1.00         1180   \n",
       "1  6414100192 2014-12-09 538000.00         3       2.25         2570   \n",
       "2  5631500400 2015-02-25 180000.00         2       1.00          770   \n",
       "3  2487200875 2014-12-09 604000.00         4       3.00         1960   \n",
       "4  1954400510 2015-02-18 510000.00         3       2.00         1680   \n",
       "\n",
       "   sqft_lot  floors waterfront view  ...    long  sqft_living15  sqft_lot15  \\\n",
       "0      5650    1.00          0    0  ... -122.26           1340        5650   \n",
       "1      7242    2.00          0    0  ... -122.32           1690        7639   \n",
       "2     10000    1.00          0    0  ... -122.23           2720        8062   \n",
       "3      5000    1.00          0    0  ... -122.39           1360        5000   \n",
       "4      8080    1.00          0    0  ... -122.05           1800        7503   \n",
       "\n",
       "   has_basement  new_house  week  month  year  season  Median Price  \n",
       "0             0          0    42     10  2014    fall     275000.00  \n",
       "1             1          1    50     12  2014  winter     422000.00  \n",
       "2             0          1     9      2  2015  winter     433000.00  \n",
       "3             1          0    50     12  2014  winter     485000.00  \n",
       "4             0          0     8      2  2015  winter     625000.00  \n",
       "\n",
       "[5 rows x 28 columns]"
      ]
     },
     "execution_count": 35,
     "metadata": {},
     "output_type": "execute_result"
    }
   ],
   "source": [
    "# Método 1\n",
    "df_rep1['Median Price'] = df_rep1['zipcode'].map(lambda x: df_median_price.loc[x].price)\n",
    "df_rep1.head()"
   ]
  },
  {
   "cell_type": "code",
   "execution_count": 36,
   "metadata": {},
   "outputs": [],
   "source": [
    "df_median_price.rename(columns={'price': 'Median Price M2'}, inplace=True)"
   ]
  },
  {
   "cell_type": "markdown",
   "metadata": {},
   "source": [
    "**Segundo Método** para criar coluna *Median Price* apartir do dataframe *df_median_price* no dataframe resultante do relatório 1:<br>\n",
    "* Com o método `merge` fazer a junção dos dois dataframes anteriores, o *df_median_price* e o *df_rel1*, pelos seus valores da coluna 'zipcode', sendo um left join."
   ]
  },
  {
   "cell_type": "code",
   "execution_count": 37,
   "metadata": {},
   "outputs": [
    {
     "data": {
      "text/html": [
       "<div>\n",
       "<style scoped>\n",
       "    .dataframe tbody tr th:only-of-type {\n",
       "        vertical-align: middle;\n",
       "    }\n",
       "\n",
       "    .dataframe tbody tr th {\n",
       "        vertical-align: top;\n",
       "    }\n",
       "\n",
       "    .dataframe thead th {\n",
       "        text-align: right;\n",
       "    }\n",
       "</style>\n",
       "<table border=\"1\" class=\"dataframe\">\n",
       "  <thead>\n",
       "    <tr style=\"text-align: right;\">\n",
       "      <th></th>\n",
       "      <th>id</th>\n",
       "      <th>date</th>\n",
       "      <th>price</th>\n",
       "      <th>bedrooms</th>\n",
       "      <th>bathrooms</th>\n",
       "      <th>sqft_living</th>\n",
       "      <th>sqft_lot</th>\n",
       "      <th>floors</th>\n",
       "      <th>waterfront</th>\n",
       "      <th>view</th>\n",
       "      <th>...</th>\n",
       "      <th>sqft_living15</th>\n",
       "      <th>sqft_lot15</th>\n",
       "      <th>has_basement</th>\n",
       "      <th>new_house</th>\n",
       "      <th>week</th>\n",
       "      <th>month</th>\n",
       "      <th>year</th>\n",
       "      <th>season</th>\n",
       "      <th>Median Price</th>\n",
       "      <th>Median Price M2</th>\n",
       "    </tr>\n",
       "  </thead>\n",
       "  <tbody>\n",
       "    <tr>\n",
       "      <th>15221</th>\n",
       "      <td>1250203135</td>\n",
       "      <td>2014-07-01</td>\n",
       "      <td>725000.00</td>\n",
       "      <td>3</td>\n",
       "      <td>1.75</td>\n",
       "      <td>1860</td>\n",
       "      <td>6000</td>\n",
       "      <td>2.00</td>\n",
       "      <td>0</td>\n",
       "      <td>2</td>\n",
       "      <td>...</td>\n",
       "      <td>3030</td>\n",
       "      <td>7119</td>\n",
       "      <td>0</td>\n",
       "      <td>0</td>\n",
       "      <td>27</td>\n",
       "      <td>7</td>\n",
       "      <td>2014</td>\n",
       "      <td>summer</td>\n",
       "      <td>446800.00</td>\n",
       "      <td>446800.00</td>\n",
       "    </tr>\n",
       "    <tr>\n",
       "      <th>21427</th>\n",
       "      <td>1085623630</td>\n",
       "      <td>2014-10-03</td>\n",
       "      <td>436952.00</td>\n",
       "      <td>4</td>\n",
       "      <td>2.50</td>\n",
       "      <td>2708</td>\n",
       "      <td>4772</td>\n",
       "      <td>2.00</td>\n",
       "      <td>0</td>\n",
       "      <td>0</td>\n",
       "      <td>...</td>\n",
       "      <td>2502</td>\n",
       "      <td>4900</td>\n",
       "      <td>0</td>\n",
       "      <td>0</td>\n",
       "      <td>40</td>\n",
       "      <td>10</td>\n",
       "      <td>2014</td>\n",
       "      <td>fall</td>\n",
       "      <td>297300.00</td>\n",
       "      <td>297300.00</td>\n",
       "    </tr>\n",
       "    <tr>\n",
       "      <th>14138</th>\n",
       "      <td>1643500072</td>\n",
       "      <td>2014-09-05</td>\n",
       "      <td>375000.00</td>\n",
       "      <td>4</td>\n",
       "      <td>2.25</td>\n",
       "      <td>1450</td>\n",
       "      <td>7245</td>\n",
       "      <td>1.00</td>\n",
       "      <td>0</td>\n",
       "      <td>0</td>\n",
       "      <td>...</td>\n",
       "      <td>1660</td>\n",
       "      <td>7800</td>\n",
       "      <td>0</td>\n",
       "      <td>1</td>\n",
       "      <td>36</td>\n",
       "      <td>9</td>\n",
       "      <td>2014</td>\n",
       "      <td>fall</td>\n",
       "      <td>375000.00</td>\n",
       "      <td>375000.00</td>\n",
       "    </tr>\n",
       "    <tr>\n",
       "      <th>9978</th>\n",
       "      <td>11510700</td>\n",
       "      <td>2014-05-19</td>\n",
       "      <td>755000.00</td>\n",
       "      <td>4</td>\n",
       "      <td>2.50</td>\n",
       "      <td>2660</td>\n",
       "      <td>10452</td>\n",
       "      <td>2.00</td>\n",
       "      <td>0</td>\n",
       "      <td>0</td>\n",
       "      <td>...</td>\n",
       "      <td>2890</td>\n",
       "      <td>9025</td>\n",
       "      <td>0</td>\n",
       "      <td>0</td>\n",
       "      <td>21</td>\n",
       "      <td>5</td>\n",
       "      <td>2014</td>\n",
       "      <td>spring</td>\n",
       "      <td>600000.00</td>\n",
       "      <td>600000.00</td>\n",
       "    </tr>\n",
       "    <tr>\n",
       "      <th>18159</th>\n",
       "      <td>4399200085</td>\n",
       "      <td>2015-03-05</td>\n",
       "      <td>315000.00</td>\n",
       "      <td>4</td>\n",
       "      <td>2.25</td>\n",
       "      <td>2550</td>\n",
       "      <td>9736</td>\n",
       "      <td>1.00</td>\n",
       "      <td>0</td>\n",
       "      <td>0</td>\n",
       "      <td>...</td>\n",
       "      <td>1770</td>\n",
       "      <td>9686</td>\n",
       "      <td>0</td>\n",
       "      <td>0</td>\n",
       "      <td>10</td>\n",
       "      <td>3</td>\n",
       "      <td>2015</td>\n",
       "      <td>spring</td>\n",
       "      <td>234000.00</td>\n",
       "      <td>234000.00</td>\n",
       "    </tr>\n",
       "  </tbody>\n",
       "</table>\n",
       "<p>5 rows × 29 columns</p>\n",
       "</div>"
      ],
      "text/plain": [
       "               id       date     price  bedrooms  bathrooms  sqft_living  \\\n",
       "15221  1250203135 2014-07-01 725000.00         3       1.75         1860   \n",
       "21427  1085623630 2014-10-03 436952.00         4       2.50         2708   \n",
       "14138  1643500072 2014-09-05 375000.00         4       2.25         1450   \n",
       "9978     11510700 2014-05-19 755000.00         4       2.50         2660   \n",
       "18159  4399200085 2015-03-05 315000.00         4       2.25         2550   \n",
       "\n",
       "       sqft_lot  floors waterfront view  ... sqft_living15  sqft_lot15  \\\n",
       "15221      6000    2.00          0    2  ...          3030        7119   \n",
       "21427      4772    2.00          0    0  ...          2502        4900   \n",
       "14138      7245    1.00          0    0  ...          1660        7800   \n",
       "9978      10452    2.00          0    0  ...          2890        9025   \n",
       "18159      9736    1.00          0    0  ...          1770        9686   \n",
       "\n",
       "       has_basement  new_house  week  month  year  season  Median Price  \\\n",
       "15221             0          0    27      7  2014  summer     446800.00   \n",
       "21427             0          0    40     10  2014    fall     297300.00   \n",
       "14138             0          1    36      9  2014    fall     375000.00   \n",
       "9978              0          0    21      5  2014  spring     600000.00   \n",
       "18159             0          0    10      3  2015  spring     234000.00   \n",
       "\n",
       "       Median Price M2  \n",
       "15221        446800.00  \n",
       "21427        297300.00  \n",
       "14138        375000.00  \n",
       "9978         600000.00  \n",
       "18159        234000.00  \n",
       "\n",
       "[5 rows x 29 columns]"
      ]
     },
     "execution_count": 37,
     "metadata": {},
     "output_type": "execute_result"
    }
   ],
   "source": [
    "# Método 2\n",
    "df_rep1 = df_rep1.merge(df_median_price, how='left', left_on='zipcode', right_index=True)\n",
    "df_rep1.sample(5)"
   ]
  },
  {
   "cell_type": "markdown",
   "metadata": {},
   "source": [
    "Agora nós iremos selecionar as casas do dataframe resultante 1 (*df_rep1*), que tenham o seu preço inferior ao da mediana de sua região e que ao mesmo tempo estejam em boas condições, atribuindo-as o valor de status 'Buy', significando que elas foram recomendadas para compra."
   ]
  },
  {
   "cell_type": "code",
   "execution_count": 38,
   "metadata": {},
   "outputs": [
    {
     "name": "stdout",
     "output_type": "stream",
     "text": [
      "(18243,)\n",
      "['Buy' 'Not Buy']\n"
     ]
    }
   ],
   "source": [
    "df_rep1['status'] = df_rep1.apply(lambda x: 'Buy' if (x['price'] < x['Median Price']) and (x['condition'] == 3) else 'Not Buy', axis=1)\n",
    "print(df_rep1['status'].shape)\n",
    "print(df_rep1['status'].unique())"
   ]
  },
  {
   "cell_type": "markdown",
   "metadata": {},
   "source": [
    "Selecionando apenas os imóveis que possuam o valor de 'Buy', na sua coluna *status*. Também obtendo apenas aquelas colunas que foram definidas no vetor `rel_cols` no início desta seção."
   ]
  },
  {
   "cell_type": "code",
   "execution_count": 39,
   "metadata": {},
   "outputs": [
    {
     "data": {
      "text/plain": [
       "(5809, 8)"
      ]
     },
     "execution_count": 39,
     "metadata": {},
     "output_type": "execute_result"
    }
   ],
   "source": [
    "df_rep1 = df_rep1.loc[df_rep1['status'] == 'Buy', rel_cols]\n",
    "df_rep1.shape"
   ]
  },
  {
   "cell_type": "markdown",
   "metadata": {},
   "source": [
    "**Relatório 1 finalizado!** Foram selecionados **5809 imóveis** que satisfazem critérios de seleção, que os classificam como boas opções de negócio para o CEO da House Rocket."
   ]
  },
  {
   "cell_type": "code",
   "execution_count": 40,
   "metadata": {},
   "outputs": [
    {
     "data": {
      "text/html": [
       "<div>\n",
       "<style scoped>\n",
       "    .dataframe tbody tr th:only-of-type {\n",
       "        vertical-align: middle;\n",
       "    }\n",
       "\n",
       "    .dataframe tbody tr th {\n",
       "        vertical-align: top;\n",
       "    }\n",
       "\n",
       "    .dataframe thead th {\n",
       "        text-align: right;\n",
       "    }\n",
       "</style>\n",
       "<table border=\"1\" class=\"dataframe\">\n",
       "  <thead>\n",
       "    <tr style=\"text-align: right;\">\n",
       "      <th></th>\n",
       "      <th>id</th>\n",
       "      <th>date</th>\n",
       "      <th>zipcode</th>\n",
       "      <th>season</th>\n",
       "      <th>price</th>\n",
       "      <th>Median Price</th>\n",
       "      <th>condition</th>\n",
       "      <th>status</th>\n",
       "    </tr>\n",
       "  </thead>\n",
       "  <tbody>\n",
       "    <tr>\n",
       "      <th>0</th>\n",
       "      <td>7129300520</td>\n",
       "      <td>2014-10-13</td>\n",
       "      <td>98178</td>\n",
       "      <td>fall</td>\n",
       "      <td>221900.00</td>\n",
       "      <td>275000.00</td>\n",
       "      <td>3</td>\n",
       "      <td>Buy</td>\n",
       "    </tr>\n",
       "    <tr>\n",
       "      <th>2</th>\n",
       "      <td>5631500400</td>\n",
       "      <td>2015-02-25</td>\n",
       "      <td>98028</td>\n",
       "      <td>winter</td>\n",
       "      <td>180000.00</td>\n",
       "      <td>433000.00</td>\n",
       "      <td>3</td>\n",
       "      <td>Buy</td>\n",
       "    </tr>\n",
       "    <tr>\n",
       "      <th>4</th>\n",
       "      <td>1954400510</td>\n",
       "      <td>2015-02-18</td>\n",
       "      <td>98074</td>\n",
       "      <td>winter</td>\n",
       "      <td>510000.00</td>\n",
       "      <td>625000.00</td>\n",
       "      <td>3</td>\n",
       "      <td>Buy</td>\n",
       "    </tr>\n",
       "    <tr>\n",
       "      <th>6</th>\n",
       "      <td>1321400060</td>\n",
       "      <td>2014-06-27</td>\n",
       "      <td>98003</td>\n",
       "      <td>summer</td>\n",
       "      <td>257500.00</td>\n",
       "      <td>263750.00</td>\n",
       "      <td>3</td>\n",
       "      <td>Buy</td>\n",
       "    </tr>\n",
       "    <tr>\n",
       "      <th>8</th>\n",
       "      <td>2414600126</td>\n",
       "      <td>2015-04-15</td>\n",
       "      <td>98146</td>\n",
       "      <td>spring</td>\n",
       "      <td>229500.00</td>\n",
       "      <td>295000.00</td>\n",
       "      <td>3</td>\n",
       "      <td>Buy</td>\n",
       "    </tr>\n",
       "    <tr>\n",
       "      <th>9</th>\n",
       "      <td>3793500160</td>\n",
       "      <td>2015-03-12</td>\n",
       "      <td>98038</td>\n",
       "      <td>spring</td>\n",
       "      <td>323000.00</td>\n",
       "      <td>326992.00</td>\n",
       "      <td>3</td>\n",
       "      <td>Buy</td>\n",
       "    </tr>\n",
       "    <tr>\n",
       "      <th>16</th>\n",
       "      <td>1875500060</td>\n",
       "      <td>2014-07-31</td>\n",
       "      <td>98019</td>\n",
       "      <td>summer</td>\n",
       "      <td>395000.00</td>\n",
       "      <td>402750.00</td>\n",
       "      <td>3</td>\n",
       "      <td>Buy</td>\n",
       "    </tr>\n",
       "    <tr>\n",
       "      <th>22</th>\n",
       "      <td>7137970340</td>\n",
       "      <td>2014-07-03</td>\n",
       "      <td>98092</td>\n",
       "      <td>summer</td>\n",
       "      <td>285000.00</td>\n",
       "      <td>297300.00</td>\n",
       "      <td>3</td>\n",
       "      <td>Buy</td>\n",
       "    </tr>\n",
       "    <tr>\n",
       "      <th>23</th>\n",
       "      <td>8091400200</td>\n",
       "      <td>2014-05-16</td>\n",
       "      <td>98030</td>\n",
       "      <td>spring</td>\n",
       "      <td>252700.00</td>\n",
       "      <td>280000.00</td>\n",
       "      <td>3</td>\n",
       "      <td>Buy</td>\n",
       "    </tr>\n",
       "    <tr>\n",
       "      <th>28</th>\n",
       "      <td>5101402488</td>\n",
       "      <td>2014-06-24</td>\n",
       "      <td>98115</td>\n",
       "      <td>summer</td>\n",
       "      <td>438000.00</td>\n",
       "      <td>560750.00</td>\n",
       "      <td>3</td>\n",
       "      <td>Buy</td>\n",
       "    </tr>\n",
       "  </tbody>\n",
       "</table>\n",
       "</div>"
      ],
      "text/plain": [
       "            id       date  zipcode  season     price  Median Price condition  \\\n",
       "0   7129300520 2014-10-13    98178    fall 221900.00     275000.00         3   \n",
       "2   5631500400 2015-02-25    98028  winter 180000.00     433000.00         3   \n",
       "4   1954400510 2015-02-18    98074  winter 510000.00     625000.00         3   \n",
       "6   1321400060 2014-06-27    98003  summer 257500.00     263750.00         3   \n",
       "8   2414600126 2015-04-15    98146  spring 229500.00     295000.00         3   \n",
       "9   3793500160 2015-03-12    98038  spring 323000.00     326992.00         3   \n",
       "16  1875500060 2014-07-31    98019  summer 395000.00     402750.00         3   \n",
       "22  7137970340 2014-07-03    98092  summer 285000.00     297300.00         3   \n",
       "23  8091400200 2014-05-16    98030  spring 252700.00     280000.00         3   \n",
       "28  5101402488 2014-06-24    98115  summer 438000.00     560750.00         3   \n",
       "\n",
       "   status  \n",
       "0     Buy  \n",
       "2     Buy  \n",
       "4     Buy  \n",
       "6     Buy  \n",
       "8     Buy  \n",
       "9     Buy  \n",
       "16    Buy  \n",
       "22    Buy  \n",
       "23    Buy  \n",
       "28    Buy  "
      ]
     },
     "execution_count": 40,
     "metadata": {},
     "output_type": "execute_result"
    }
   ],
   "source": [
    "df_rep1.head(10)"
   ]
  },
  {
   "cell_type": "markdown",
   "metadata": {},
   "source": [
    "### Gerando **Relatório 2**:\n",
    "#### **2) Uma vez comprados, quando será a melhor época para revender e por qual preço?**"
   ]
  },
  {
   "cell_type": "markdown",
   "metadata": {},
   "source": [
    "- Agrupar os dados por região(zipcode) e sazonalidade(primavera/verao/outono/inverno)\n",
    "- Descobrir a mediana do preço de cada agrupamento\n",
    "- Se o valor do imóvel for superior ao preço do seu agrupamento\n",
    "  - Definir o preço de venda como: preço de compra + 10%\n",
    "- Se não, se o valor do imóvel for inferior ao preço de seu agrupamento\n",
    "  - Definir o preço de venda como: preço da compra + 30%"
   ]
  },
  {
   "cell_type": "code",
   "execution_count": 42,
   "metadata": {},
   "outputs": [],
   "source": [
    "df_rep2 = df_rep1.copy()"
   ]
  },
  {
   "cell_type": "code",
   "execution_count": 43,
   "metadata": {},
   "outputs": [
    {
     "data": {
      "text/plain": [
       "array(['fall', 'winter', 'summer', 'spring'], dtype=object)"
      ]
     },
     "execution_count": 43,
     "metadata": {},
     "output_type": "execute_result"
    }
   ],
   "source": [
    "df_rep2['season'].unique()"
   ]
  },
  {
   "cell_type": "markdown",
   "metadata": {},
   "source": [
    "Uma vez a coluna season criada, agora podemos criar os agrupamentos indexados pela região e respectiva season."
   ]
  },
  {
   "cell_type": "code",
   "execution_count": 44,
   "metadata": {},
   "outputs": [
    {
     "data": {
      "text/html": [
       "<div>\n",
       "<style scoped>\n",
       "    .dataframe tbody tr th:only-of-type {\n",
       "        vertical-align: middle;\n",
       "    }\n",
       "\n",
       "    .dataframe tbody tr th {\n",
       "        vertical-align: top;\n",
       "    }\n",
       "\n",
       "    .dataframe thead th {\n",
       "        text-align: right;\n",
       "    }\n",
       "</style>\n",
       "<table border=\"1\" class=\"dataframe\">\n",
       "  <thead>\n",
       "    <tr style=\"text-align: right;\">\n",
       "      <th></th>\n",
       "      <th></th>\n",
       "      <th>Median Price</th>\n",
       "    </tr>\n",
       "    <tr>\n",
       "      <th>zipcode</th>\n",
       "      <th>season</th>\n",
       "      <th></th>\n",
       "    </tr>\n",
       "  </thead>\n",
       "  <tbody>\n",
       "    <tr>\n",
       "      <th rowspan=\"4\" valign=\"top\">98001</th>\n",
       "      <th>fall</th>\n",
       "      <td>211775.00</td>\n",
       "    </tr>\n",
       "    <tr>\n",
       "      <th>spring</th>\n",
       "      <td>205000.00</td>\n",
       "    </tr>\n",
       "    <tr>\n",
       "      <th>summer</th>\n",
       "      <td>214100.00</td>\n",
       "    </tr>\n",
       "    <tr>\n",
       "      <th>winter</th>\n",
       "      <td>223000.00</td>\n",
       "    </tr>\n",
       "    <tr>\n",
       "      <th rowspan=\"4\" valign=\"top\">98002</th>\n",
       "      <th>fall</th>\n",
       "      <td>187000.00</td>\n",
       "    </tr>\n",
       "    <tr>\n",
       "      <th>spring</th>\n",
       "      <td>208000.00</td>\n",
       "    </tr>\n",
       "    <tr>\n",
       "      <th>summer</th>\n",
       "      <td>222000.00</td>\n",
       "    </tr>\n",
       "    <tr>\n",
       "      <th>winter</th>\n",
       "      <td>169450.00</td>\n",
       "    </tr>\n",
       "  </tbody>\n",
       "</table>\n",
       "</div>"
      ],
      "text/plain": [
       "                Median Price\n",
       "zipcode season              \n",
       "98001   fall       211775.00\n",
       "        spring     205000.00\n",
       "        summer     214100.00\n",
       "        winter     223000.00\n",
       "98002   fall       187000.00\n",
       "        spring     208000.00\n",
       "        summer     222000.00\n",
       "        winter     169450.00"
      ]
     },
     "execution_count": 44,
     "metadata": {},
     "output_type": "execute_result"
    }
   ],
   "source": [
    "median_price_rel2 = df_rep2.groupby(['zipcode', 'season']).agg({'price':'median'}).rename(columns={'price': 'Median Price'})\n",
    "median_price_rel2.head(8)"
   ]
  },
  {
   "cell_type": "code",
   "execution_count": 45,
   "metadata": {},
   "outputs": [
    {
     "data": {
      "text/plain": [
       "array(['id', 'date', 'zipcode', 'season', 'price', 'condition', 'status'],\n",
       "      dtype=object)"
      ]
     },
     "execution_count": 45,
     "metadata": {},
     "output_type": "execute_result"
    }
   ],
   "source": [
    "df_rep2.drop(columns='Median Price', inplace=True, axis=1)\n",
    "df_rep2.columns.values"
   ]
  },
  {
   "cell_type": "code",
   "execution_count": 46,
   "metadata": {},
   "outputs": [
    {
     "data": {
      "text/html": [
       "<div>\n",
       "<style scoped>\n",
       "    .dataframe tbody tr th:only-of-type {\n",
       "        vertical-align: middle;\n",
       "    }\n",
       "\n",
       "    .dataframe tbody tr th {\n",
       "        vertical-align: top;\n",
       "    }\n",
       "\n",
       "    .dataframe thead th {\n",
       "        text-align: right;\n",
       "    }\n",
       "</style>\n",
       "<table border=\"1\" class=\"dataframe\">\n",
       "  <thead>\n",
       "    <tr style=\"text-align: right;\">\n",
       "      <th></th>\n",
       "      <th>id</th>\n",
       "      <th>date</th>\n",
       "      <th>zipcode</th>\n",
       "      <th>season</th>\n",
       "      <th>price</th>\n",
       "      <th>condition</th>\n",
       "      <th>status</th>\n",
       "      <th>Median Price</th>\n",
       "    </tr>\n",
       "  </thead>\n",
       "  <tbody>\n",
       "    <tr>\n",
       "      <th>0</th>\n",
       "      <td>7129300520</td>\n",
       "      <td>2014-10-13</td>\n",
       "      <td>98178</td>\n",
       "      <td>fall</td>\n",
       "      <td>221900.00</td>\n",
       "      <td>3</td>\n",
       "      <td>Buy</td>\n",
       "      <td>200000.00</td>\n",
       "    </tr>\n",
       "    <tr>\n",
       "      <th>2</th>\n",
       "      <td>5631500400</td>\n",
       "      <td>2015-02-25</td>\n",
       "      <td>98028</td>\n",
       "      <td>winter</td>\n",
       "      <td>180000.00</td>\n",
       "      <td>3</td>\n",
       "      <td>Buy</td>\n",
       "      <td>356500.00</td>\n",
       "    </tr>\n",
       "    <tr>\n",
       "      <th>4</th>\n",
       "      <td>1954400510</td>\n",
       "      <td>2015-02-18</td>\n",
       "      <td>98074</td>\n",
       "      <td>winter</td>\n",
       "      <td>510000.00</td>\n",
       "      <td>3</td>\n",
       "      <td>Buy</td>\n",
       "      <td>510000.00</td>\n",
       "    </tr>\n",
       "    <tr>\n",
       "      <th>6</th>\n",
       "      <td>1321400060</td>\n",
       "      <td>2014-06-27</td>\n",
       "      <td>98003</td>\n",
       "      <td>summer</td>\n",
       "      <td>257500.00</td>\n",
       "      <td>3</td>\n",
       "      <td>Buy</td>\n",
       "      <td>225000.00</td>\n",
       "    </tr>\n",
       "    <tr>\n",
       "      <th>8</th>\n",
       "      <td>2414600126</td>\n",
       "      <td>2015-04-15</td>\n",
       "      <td>98146</td>\n",
       "      <td>spring</td>\n",
       "      <td>229500.00</td>\n",
       "      <td>3</td>\n",
       "      <td>Buy</td>\n",
       "      <td>236950.00</td>\n",
       "    </tr>\n",
       "  </tbody>\n",
       "</table>\n",
       "</div>"
      ],
      "text/plain": [
       "           id       date  zipcode  season     price condition status  \\\n",
       "0  7129300520 2014-10-13    98178    fall 221900.00         3    Buy   \n",
       "2  5631500400 2015-02-25    98028  winter 180000.00         3    Buy   \n",
       "4  1954400510 2015-02-18    98074  winter 510000.00         3    Buy   \n",
       "6  1321400060 2014-06-27    98003  summer 257500.00         3    Buy   \n",
       "8  2414600126 2015-04-15    98146  spring 229500.00         3    Buy   \n",
       "\n",
       "   Median Price  \n",
       "0     200000.00  \n",
       "2     356500.00  \n",
       "4     510000.00  \n",
       "6     225000.00  \n",
       "8     236950.00  "
      ]
     },
     "execution_count": 46,
     "metadata": {},
     "output_type": "execute_result"
    }
   ],
   "source": [
    "df_rep2 = df_rep2.merge(median_price_rel2, how='left', right_index=True, left_on=['zipcode', 'season'])\n",
    "df_rep2.head()"
   ]
  },
  {
   "cell_type": "code",
   "execution_count": 47,
   "metadata": {},
   "outputs": [
    {
     "data": {
      "text/html": [
       "<div>\n",
       "<style scoped>\n",
       "    .dataframe tbody tr th:only-of-type {\n",
       "        vertical-align: middle;\n",
       "    }\n",
       "\n",
       "    .dataframe tbody tr th {\n",
       "        vertical-align: top;\n",
       "    }\n",
       "\n",
       "    .dataframe thead th {\n",
       "        text-align: right;\n",
       "    }\n",
       "</style>\n",
       "<table border=\"1\" class=\"dataframe\">\n",
       "  <thead>\n",
       "    <tr style=\"text-align: right;\">\n",
       "      <th></th>\n",
       "      <th>id</th>\n",
       "      <th>date</th>\n",
       "      <th>zipcode</th>\n",
       "      <th>season</th>\n",
       "      <th>price</th>\n",
       "      <th>condition</th>\n",
       "      <th>status</th>\n",
       "      <th>Median Price</th>\n",
       "      <th>Sell Price</th>\n",
       "      <th>Profit</th>\n",
       "    </tr>\n",
       "  </thead>\n",
       "  <tbody>\n",
       "    <tr>\n",
       "      <th>0</th>\n",
       "      <td>7129300520</td>\n",
       "      <td>2014-10-13</td>\n",
       "      <td>98178</td>\n",
       "      <td>fall</td>\n",
       "      <td>221900.00</td>\n",
       "      <td>3</td>\n",
       "      <td>Buy</td>\n",
       "      <td>200000.00</td>\n",
       "      <td>244090.00</td>\n",
       "      <td>22190.00</td>\n",
       "    </tr>\n",
       "    <tr>\n",
       "      <th>2</th>\n",
       "      <td>5631500400</td>\n",
       "      <td>2015-02-25</td>\n",
       "      <td>98028</td>\n",
       "      <td>winter</td>\n",
       "      <td>180000.00</td>\n",
       "      <td>3</td>\n",
       "      <td>Buy</td>\n",
       "      <td>356500.00</td>\n",
       "      <td>234000.00</td>\n",
       "      <td>54000.00</td>\n",
       "    </tr>\n",
       "    <tr>\n",
       "      <th>4</th>\n",
       "      <td>1954400510</td>\n",
       "      <td>2015-02-18</td>\n",
       "      <td>98074</td>\n",
       "      <td>winter</td>\n",
       "      <td>510000.00</td>\n",
       "      <td>3</td>\n",
       "      <td>Buy</td>\n",
       "      <td>510000.00</td>\n",
       "      <td>561000.00</td>\n",
       "      <td>51000.00</td>\n",
       "    </tr>\n",
       "    <tr>\n",
       "      <th>6</th>\n",
       "      <td>1321400060</td>\n",
       "      <td>2014-06-27</td>\n",
       "      <td>98003</td>\n",
       "      <td>summer</td>\n",
       "      <td>257500.00</td>\n",
       "      <td>3</td>\n",
       "      <td>Buy</td>\n",
       "      <td>225000.00</td>\n",
       "      <td>283250.00</td>\n",
       "      <td>25750.00</td>\n",
       "    </tr>\n",
       "    <tr>\n",
       "      <th>8</th>\n",
       "      <td>2414600126</td>\n",
       "      <td>2015-04-15</td>\n",
       "      <td>98146</td>\n",
       "      <td>spring</td>\n",
       "      <td>229500.00</td>\n",
       "      <td>3</td>\n",
       "      <td>Buy</td>\n",
       "      <td>236950.00</td>\n",
       "      <td>298350.00</td>\n",
       "      <td>68850.00</td>\n",
       "    </tr>\n",
       "  </tbody>\n",
       "</table>\n",
       "</div>"
      ],
      "text/plain": [
       "           id       date  zipcode  season     price condition status  \\\n",
       "0  7129300520 2014-10-13    98178    fall 221900.00         3    Buy   \n",
       "2  5631500400 2015-02-25    98028  winter 180000.00         3    Buy   \n",
       "4  1954400510 2015-02-18    98074  winter 510000.00         3    Buy   \n",
       "6  1321400060 2014-06-27    98003  summer 257500.00         3    Buy   \n",
       "8  2414600126 2015-04-15    98146  spring 229500.00         3    Buy   \n",
       "\n",
       "   Median Price  Sell Price   Profit  \n",
       "0     200000.00   244090.00 22190.00  \n",
       "2     356500.00   234000.00 54000.00  \n",
       "4     510000.00   561000.00 51000.00  \n",
       "6     225000.00   283250.00 25750.00  \n",
       "8     236950.00   298350.00 68850.00  "
      ]
     },
     "execution_count": 47,
     "metadata": {},
     "output_type": "execute_result"
    }
   ],
   "source": [
    "df_rep2['Sell Price'] = df_rep2.apply(lambda x: x['price'] * 1.3 if x['price'] < x['Median Price'] else x['price'] * 1.1, axis=1)\n",
    "df_rep2['Profit'] = df_rep2.apply(lambda x: (x['Sell Price'] - x['price']), axis=1)\n",
    "df_rep2.head()"
   ]
  },
  {
   "cell_type": "code",
   "execution_count": 48,
   "metadata": {},
   "outputs": [
    {
     "data": {
      "text/html": [
       "<div>\n",
       "<style scoped>\n",
       "    .dataframe tbody tr th:only-of-type {\n",
       "        vertical-align: middle;\n",
       "    }\n",
       "\n",
       "    .dataframe tbody tr th {\n",
       "        vertical-align: top;\n",
       "    }\n",
       "\n",
       "    .dataframe thead th {\n",
       "        text-align: right;\n",
       "    }\n",
       "</style>\n",
       "<table border=\"1\" class=\"dataframe\">\n",
       "  <thead>\n",
       "    <tr style=\"text-align: right;\">\n",
       "      <th></th>\n",
       "      <th>id</th>\n",
       "      <th>Region</th>\n",
       "      <th>season</th>\n",
       "      <th>Median Price</th>\n",
       "      <th>Buy Price</th>\n",
       "      <th>Sell Price</th>\n",
       "      <th>Profit</th>\n",
       "    </tr>\n",
       "  </thead>\n",
       "  <tbody>\n",
       "    <tr>\n",
       "      <th>0</th>\n",
       "      <td>7129300520</td>\n",
       "      <td>98178</td>\n",
       "      <td>fall</td>\n",
       "      <td>200000.00</td>\n",
       "      <td>221900.00</td>\n",
       "      <td>244090.00</td>\n",
       "      <td>22190.00</td>\n",
       "    </tr>\n",
       "    <tr>\n",
       "      <th>2</th>\n",
       "      <td>5631500400</td>\n",
       "      <td>98028</td>\n",
       "      <td>winter</td>\n",
       "      <td>356500.00</td>\n",
       "      <td>180000.00</td>\n",
       "      <td>234000.00</td>\n",
       "      <td>54000.00</td>\n",
       "    </tr>\n",
       "    <tr>\n",
       "      <th>4</th>\n",
       "      <td>1954400510</td>\n",
       "      <td>98074</td>\n",
       "      <td>winter</td>\n",
       "      <td>510000.00</td>\n",
       "      <td>510000.00</td>\n",
       "      <td>561000.00</td>\n",
       "      <td>51000.00</td>\n",
       "    </tr>\n",
       "    <tr>\n",
       "      <th>6</th>\n",
       "      <td>1321400060</td>\n",
       "      <td>98003</td>\n",
       "      <td>summer</td>\n",
       "      <td>225000.00</td>\n",
       "      <td>257500.00</td>\n",
       "      <td>283250.00</td>\n",
       "      <td>25750.00</td>\n",
       "    </tr>\n",
       "    <tr>\n",
       "      <th>8</th>\n",
       "      <td>2414600126</td>\n",
       "      <td>98146</td>\n",
       "      <td>spring</td>\n",
       "      <td>236950.00</td>\n",
       "      <td>229500.00</td>\n",
       "      <td>298350.00</td>\n",
       "      <td>68850.00</td>\n",
       "    </tr>\n",
       "  </tbody>\n",
       "</table>\n",
       "</div>"
      ],
      "text/plain": [
       "           id  Region  season  Median Price  Buy Price  Sell Price   Profit\n",
       "0  7129300520   98178    fall     200000.00  221900.00   244090.00 22190.00\n",
       "2  5631500400   98028  winter     356500.00  180000.00   234000.00 54000.00\n",
       "4  1954400510   98074  winter     510000.00  510000.00   561000.00 51000.00\n",
       "6  1321400060   98003  summer     225000.00  257500.00   283250.00 25750.00\n",
       "8  2414600126   98146  spring     236950.00  229500.00   298350.00 68850.00"
      ]
     },
     "execution_count": 48,
     "metadata": {},
     "output_type": "execute_result"
    }
   ],
   "source": [
    "df_rep2 = df_rep2[['id', 'zipcode', 'season', 'Median Price', 'price', 'Sell Price', 'Profit']].rename(columns={'zipcode': 'Region', 'price':'Buy Price'})\n",
    "df_rep2.head()"
   ]
  },
  {
   "cell_type": "markdown",
   "metadata": {},
   "source": [
    "### Validação de Hipóteses de Negócio"
   ]
  },
  {
   "cell_type": "markdown",
   "metadata": {},
   "source": [
    "#### H1) Imóveis que possuem vista para o mar, são 20% mais caros, na média.\n",
    "___"
   ]
  },
  {
   "cell_type": "markdown",
   "metadata": {},
   "source": [
    "##### Cálculo em porcentagem"
   ]
  },
  {
   "cell_type": "code",
   "execution_count": 50,
   "metadata": {},
   "outputs": [],
   "source": [
    "mean_price_no_waterfront = data.loc[~(data['waterfront'] == 1)].price.mean()\n",
    "mean_price_waterfront = data.loc[data['waterfront'] == 1].price.mean()"
   ]
  },
  {
   "cell_type": "code",
   "execution_count": 51,
   "metadata": {},
   "outputs": [],
   "source": [
    "h1_result = diff_mean(mean_price_no_waterfront, mean_price_waterfront)"
   ]
  },
  {
   "cell_type": "markdown",
   "metadata": {},
   "source": [
    "##### Criando Visualização"
   ]
  },
  {
   "cell_type": "code",
   "execution_count": 52,
   "metadata": {},
   "outputs": [
    {
     "data": {
      "text/plain": [
       "<seaborn.axisgrid.FacetGrid at 0x7fd19fe66530>"
      ]
     },
     "execution_count": 52,
     "metadata": {},
     "output_type": "execute_result"
    },
    {
     "data": {
      "image/png": "[encoded data removed]",
      "text/plain": [
       "<Figure size 864x432 with 1 Axes>"
      ]
     },
     "metadata": {
      "needs_background": "light"
     },
     "output_type": "display_data"
    }
   ],
   "source": [
    "sns.catplot(data=data, x='waterfront', y='price', kind='box', height=6, aspect=2, width=.7)"
   ]
  },
  {
   "cell_type": "markdown",
   "metadata": {},
   "source": [
    "##### Conclusão\n",
    "* FALSO"
   ]
  },
  {
   "cell_type": "code",
   "execution_count": 53,
   "metadata": {},
   "outputs": [
    {
     "name": "stdout",
     "output_type": "stream",
     "text": [
      "Imóveis que possuem vista para o mar, são em média, 62.90% mais caros do que imóveis sem vista para o mar.\n"
     ]
    }
   ],
   "source": [
    "print(f'Imóveis que possuem vista para o mar, são em média, {h1_result:.2f}% mais caros do \\\n",
    "que imóveis sem vista para o mar.')"
   ]
  },
  {
   "cell_type": "markdown",
   "metadata": {},
   "source": [
    "#### H2) Imóveis com data de construção menor que 1955, são 50% mais baratos, na média.\n",
    "___"
   ]
  },
  {
   "cell_type": "markdown",
   "metadata": {},
   "source": [
    "##### Cálculo em porcentagem"
   ]
  },
  {
   "cell_type": "code",
   "execution_count": 54,
   "metadata": {},
   "outputs": [],
   "source": [
    "old_houses = data.loc[data['yr_built'] <= 1955].price.mean()\n",
    "new_houses = data.loc[data['yr_built'] > 1955].price.mean()"
   ]
  },
  {
   "cell_type": "code",
   "execution_count": 55,
   "metadata": {},
   "outputs": [],
   "source": [
    "h2_result = diff_mean(new_houses, old_houses)"
   ]
  },
  {
   "cell_type": "markdown",
   "metadata": {},
   "source": [
    "##### Criando Visualização"
   ]
  },
  {
   "cell_type": "code",
   "execution_count": 56,
   "metadata": {},
   "outputs": [
    {
     "data": {
      "text/plain": [
       "439242.4439252336"
      ]
     },
     "execution_count": 56,
     "metadata": {},
     "output_type": "execute_result"
    }
   ],
   "source": [
    "data.loc[data['yr_built'] == 1950, 'price'].mean()"
   ]
  },
  {
   "cell_type": "code",
   "execution_count": 57,
   "metadata": {},
   "outputs": [
    {
     "data": {
      "image/png": "[encoded data removed]",
      "text/plain": [
       "<Figure size 864x432 with 1 Axes>"
      ]
     },
     "metadata": {
      "needs_background": "light"
     },
     "output_type": "display_data"
    }
   ],
   "source": [
    "fig, ax = plt.subplots(figsize=(12, 6))\n",
    "\n",
    "sns.regplot(data=data, x='yr_built', y='price', ax=ax, x_estimator=np.mean)\n",
    "ax.annotate(text='1950', xy=[1950, data.loc[data['yr_built'] == 1950, 'price'].mean()], xytext=[1950, 600000], \\\n",
    "    arrowprops=dict(arrowstyle=\"->\",\n",
    "                            color=\"gray\",\n",
    "                            patchB=None,\n",
    "                            shrinkB=0,\n",
    "                            ))\n",
    "\n",
    "ax.set_title('Preço versus Data de Construção', fontsize=15)\n",
    "ax.set_ylabel('Preço do imóvel (USD)')\n",
    "ax.set_xlabel('Ano de construção')\n",
    "\n",
    "plt.show()"
   ]
  },
  {
   "cell_type": "code",
   "execution_count": 58,
   "metadata": {},
   "outputs": [
    {
     "data": {
      "image/png": "[encoded data removed]",
      "text/plain": [
       "<Figure size 864x432 with 1 Axes>"
      ]
     },
     "metadata": {
      "needs_background": "light"
     },
     "output_type": "display_data"
    }
   ],
   "source": [
    "fig, ax = plt.subplots(figsize=(12, 6))\n",
    "\n",
    "sns.barplot(data=data, x='new_house', y='price', ax=ax)\n",
    "ax.set_title('Preço médio das casas por Ano de Construção', fontsize=15)\n",
    "ax.set_ylabel('Preço do imóvel (USD)')\n",
    "ax.set_xlabel('Ano de construção')\n",
    "\n",
    "plt.show()"
   ]
  },
  {
   "cell_type": "markdown",
   "metadata": {},
   "source": [
    "##### Conslusão\n",
    "* FALSO"
   ]
  },
  {
   "cell_type": "code",
   "execution_count": 59,
   "metadata": {},
   "outputs": [
    {
     "name": "stdout",
     "output_type": "stream",
     "text": [
      "Imóveis com data de construção menor que 1955, são em média, 2.95% mais caros.\n"
     ]
    }
   ],
   "source": [
    "print(f'Imóveis com data de construção menor que 1955, são em média, {h2_result:.2f}% mais caros.')"
   ]
  },
  {
   "cell_type": "markdown",
   "metadata": {},
   "source": [
    "#### H3) Imóveis sem porão - possuem área total (sqf|t_lot) - são 40% maiores do que os imóveis com porão.\n",
    "___"
   ]
  },
  {
   "cell_type": "markdown",
   "metadata": {},
   "source": [
    "##### Cálculo em porcentagem"
   ]
  },
  {
   "cell_type": "code",
   "execution_count": 60,
   "metadata": {},
   "outputs": [],
   "source": [
    "mean_area_basement = data.loc[~(data['sqft_basement'] == 0)].sqft_lot.mean()\n",
    "mean_area_without_basement = data[data['sqft_basement'] == 0].sqft_lot.mean()"
   ]
  },
  {
   "cell_type": "code",
   "execution_count": 61,
   "metadata": {},
   "outputs": [],
   "source": [
    "h3_result = diff_mean(mean_area_basement, mean_area_without_basement)"
   ]
  },
  {
   "cell_type": "markdown",
   "metadata": {},
   "source": [
    "##### Criando visualização"
   ]
  },
  {
   "cell_type": "code",
   "execution_count": 62,
   "metadata": {},
   "outputs": [
    {
     "data": {
      "image/png": "[encoded data removed]",
      "text/plain": [
       "<Figure size 864x432 with 1 Axes>"
      ]
     },
     "metadata": {
      "needs_background": "light"
     },
     "output_type": "display_data"
    }
   ],
   "source": [
    "fig, ax = plt.subplots(figsize=(12, 6))\n",
    "\n",
    "ax.hist(data.loc[~(data['sqft_basement'] == 0)]['sqft_lot'], color='r', histtype='step', label='COM Porão')\n",
    "ax.hist(data.loc[data['sqft_basement'] == 0]['sqft_lot'], color='b', histtype='step', label='SEM Porão')\n",
    "\n",
    "ax.legend()\n",
    "plt.show()"
   ]
  },
  {
   "cell_type": "code",
   "execution_count": 63,
   "metadata": {},
   "outputs": [
    {
     "data": {
      "image/png": "[encoded data removed]",
      "text/plain": [
       "<Figure size 864x432 with 1 Axes>"
      ]
     },
     "metadata": {
      "needs_background": "light"
     },
     "output_type": "display_data"
    }
   ],
   "source": [
    "fig, ax = plt.subplots(figsize=(12, 6))\n",
    "\n",
    "\n",
    "sns.barplot(data=data, x='has_basement', y='sqft_lot', ci='sd', ax=ax)\n",
    "#ax.bar(x=['COM Porão', 'SEM Porão'], height=[mean_area_basement, mean_area_without_basement])\n",
    "ax.set_title('Média da área dos imóveis com e sem Porão', fontsize=15)\n",
    "ax.set_ylabel('Área do imóvel (m²)')\n",
    "ax.set_xticklabels(['SEM Porão', 'COM Porão'])\n",
    "\n",
    "plt.show()"
   ]
  },
  {
   "cell_type": "markdown",
   "metadata": {},
   "source": [
    "##### Conclusão\n",
    "* FALSO"
   ]
  },
  {
   "cell_type": "code",
   "execution_count": 64,
   "metadata": {},
   "outputs": [
    {
     "name": "stdout",
     "output_type": "stream",
     "text": [
      "Imóveis sem porão, são em média 2.10% maiores do que imóveis com porão.\n"
     ]
    }
   ],
   "source": [
    "print(f'Imóveis sem porão, são em média {h3_result:.2f}% maiores do que imóveis com porão.')"
   ]
  },
  {
   "cell_type": "markdown",
   "metadata": {},
   "source": [
    "#### H4) O crescimento do preço dos imóveis YoY (Year over Year) é de 10%.\n",
    "___"
   ]
  },
  {
   "cell_type": "markdown",
   "metadata": {},
   "source": [
    "##### Cálculo em porcentagem"
   ]
  },
  {
   "cell_type": "code",
   "execution_count": 65,
   "metadata": {},
   "outputs": [
    {
     "data": {
      "text/html": [
       "<div>\n",
       "<style scoped>\n",
       "    .dataframe tbody tr th:only-of-type {\n",
       "        vertical-align: middle;\n",
       "    }\n",
       "\n",
       "    .dataframe tbody tr th {\n",
       "        vertical-align: top;\n",
       "    }\n",
       "\n",
       "    .dataframe thead tr th {\n",
       "        text-align: left;\n",
       "    }\n",
       "\n",
       "    .dataframe thead tr:last-of-type th {\n",
       "        text-align: right;\n",
       "    }\n",
       "</style>\n",
       "<table border=\"1\" class=\"dataframe\">\n",
       "  <thead>\n",
       "    <tr>\n",
       "      <th></th>\n",
       "      <th colspan=\"2\" halign=\"left\">price</th>\n",
       "    </tr>\n",
       "    <tr>\n",
       "      <th></th>\n",
       "      <th>mean</th>\n",
       "      <th>std</th>\n",
       "    </tr>\n",
       "    <tr>\n",
       "      <th>year</th>\n",
       "      <th></th>\n",
       "      <th></th>\n",
       "    </tr>\n",
       "  </thead>\n",
       "  <tbody>\n",
       "    <tr>\n",
       "      <th>2014</th>\n",
       "      <td>476181.75</td>\n",
       "      <td>219701.39</td>\n",
       "    </tr>\n",
       "    <tr>\n",
       "      <th>2015</th>\n",
       "      <td>475962.52</td>\n",
       "      <td>218475.48</td>\n",
       "    </tr>\n",
       "  </tbody>\n",
       "</table>\n",
       "</div>"
      ],
      "text/plain": [
       "         price          \n",
       "          mean       std\n",
       "year                    \n",
       "2014 476181.75 219701.39\n",
       "2015 475962.52 218475.48"
      ]
     },
     "execution_count": 65,
     "metadata": {},
     "output_type": "execute_result"
    }
   ],
   "source": [
    "yoy = data.groupby('year').agg({'price': ['mean', 'std']})\n",
    "yoy.head()"
   ]
  },
  {
   "cell_type": "code",
   "execution_count": 66,
   "metadata": {},
   "outputs": [
    {
     "data": {
      "text/plain": [
       "476181.7450105468"
      ]
     },
     "execution_count": 66,
     "metadata": {},
     "output_type": "execute_result"
    }
   ],
   "source": [
    "yoy.loc[2014].price['mean']"
   ]
  },
  {
   "cell_type": "code",
   "execution_count": 67,
   "metadata": {},
   "outputs": [],
   "source": [
    "h4_result = diff_mean(yoy.loc[2014].price['mean'], yoy.loc[2015].price['mean'])"
   ]
  },
  {
   "cell_type": "markdown",
   "metadata": {},
   "source": [
    "##### Criando Visualização"
   ]
  },
  {
   "cell_type": "code",
   "execution_count": 68,
   "metadata": {},
   "outputs": [
    {
     "data": {
      "image/png": "[encoded data removed]",
      "text/plain": [
       "<Figure size 864x432 with 1 Axes>"
      ]
     },
     "metadata": {
      "needs_background": "light"
     },
     "output_type": "display_data"
    }
   ],
   "source": [
    "fig, ax = plt.subplots(figsize=(12, 6))\n",
    "\n",
    "ax.bar('2014', yoy.loc[2014].price['mean'], yerr=yoy.loc[2014].price['std'])\n",
    "ax.bar('2015', yoy.loc[2015].price['mean'], yerr=yoy.loc[2015].price['std'])\n",
    "ax.set_ylabel('Preço médio (USD)')\n",
    "ax.set_xlabel('Ano')\n",
    "ax.set_title('Crescimento YoY nos preços dos Imóveis', fontsize=15)\n",
    "\n",
    "plt.show()"
   ]
  },
  {
   "cell_type": "markdown",
   "metadata": {},
   "source": [
    "##### Conclusão\n",
    "* FALSO"
   ]
  },
  {
   "cell_type": "code",
   "execution_count": 69,
   "metadata": {},
   "outputs": [
    {
     "name": "stdout",
     "output_type": "stream",
     "text": [
      "Nota-se uma variação negativa YoY de -0.05% no preço.\n"
     ]
    }
   ],
   "source": [
    "print(f\"Nota-se uma variação negativa YoY de {h4_result:.2f}% no preço.\")"
   ]
  },
  {
   "cell_type": "markdown",
   "metadata": {},
   "source": [
    "#### H5) Imóveis com 3 banheiros tem um crescimento de MoM (Month over Month) médio de 15%.\n",
    "___"
   ]
  },
  {
   "cell_type": "markdown",
   "metadata": {},
   "source": [
    "##### Cálculo em porcentagem"
   ]
  },
  {
   "cell_type": "code",
   "execution_count": 70,
   "metadata": {},
   "outputs": [
    {
     "data": {
      "text/html": [
       "<div>\n",
       "<style scoped>\n",
       "    .dataframe tbody tr th:only-of-type {\n",
       "        vertical-align: middle;\n",
       "    }\n",
       "\n",
       "    .dataframe tbody tr th {\n",
       "        vertical-align: top;\n",
       "    }\n",
       "\n",
       "    .dataframe thead th {\n",
       "        text-align: right;\n",
       "    }\n",
       "</style>\n",
       "<table border=\"1\" class=\"dataframe\">\n",
       "  <thead>\n",
       "    <tr style=\"text-align: right;\">\n",
       "      <th></th>\n",
       "      <th>month</th>\n",
       "      <th>price</th>\n",
       "    </tr>\n",
       "  </thead>\n",
       "  <tbody>\n",
       "    <tr>\n",
       "      <th>0</th>\n",
       "      <td>1</td>\n",
       "      <td>601992.00</td>\n",
       "    </tr>\n",
       "    <tr>\n",
       "      <th>1</th>\n",
       "      <td>2</td>\n",
       "      <td>527357.32</td>\n",
       "    </tr>\n",
       "    <tr>\n",
       "      <th>2</th>\n",
       "      <td>3</td>\n",
       "      <td>611025.13</td>\n",
       "    </tr>\n",
       "    <tr>\n",
       "      <th>3</th>\n",
       "      <td>4</td>\n",
       "      <td>647063.13</td>\n",
       "    </tr>\n",
       "    <tr>\n",
       "      <th>4</th>\n",
       "      <td>5</td>\n",
       "      <td>580409.82</td>\n",
       "    </tr>\n",
       "    <tr>\n",
       "      <th>5</th>\n",
       "      <td>6</td>\n",
       "      <td>613573.51</td>\n",
       "    </tr>\n",
       "    <tr>\n",
       "      <th>6</th>\n",
       "      <td>7</td>\n",
       "      <td>621537.82</td>\n",
       "    </tr>\n",
       "    <tr>\n",
       "      <th>7</th>\n",
       "      <td>8</td>\n",
       "      <td>608258.00</td>\n",
       "    </tr>\n",
       "    <tr>\n",
       "      <th>8</th>\n",
       "      <td>9</td>\n",
       "      <td>602944.58</td>\n",
       "    </tr>\n",
       "    <tr>\n",
       "      <th>9</th>\n",
       "      <td>10</td>\n",
       "      <td>578565.44</td>\n",
       "    </tr>\n",
       "    <tr>\n",
       "      <th>10</th>\n",
       "      <td>11</td>\n",
       "      <td>588130.00</td>\n",
       "    </tr>\n",
       "    <tr>\n",
       "      <th>11</th>\n",
       "      <td>12</td>\n",
       "      <td>582771.84</td>\n",
       "    </tr>\n",
       "  </tbody>\n",
       "</table>\n",
       "</div>"
      ],
      "text/plain": [
       "    month     price\n",
       "0       1 601992.00\n",
       "1       2 527357.32\n",
       "2       3 611025.13\n",
       "3       4 647063.13\n",
       "4       5 580409.82\n",
       "5       6 613573.51\n",
       "6       7 621537.82\n",
       "7       8 608258.00\n",
       "8       9 602944.58\n",
       "9      10 578565.44\n",
       "10     11 588130.00\n",
       "11     12 582771.84"
      ]
     },
     "execution_count": 70,
     "metadata": {},
     "output_type": "execute_result"
    }
   ],
   "source": [
    "mom = data.loc[data['bathrooms'] == 3].groupby('month').agg({'price': 'mean'}).reset_index()\n",
    "mom"
   ]
  },
  {
   "cell_type": "code",
   "execution_count": 71,
   "metadata": {},
   "outputs": [],
   "source": [
    "h5_result = calculate_consecutive_percentage(mom, 'price')"
   ]
  },
  {
   "cell_type": "markdown",
   "metadata": {},
   "source": [
    "##### Criando Visualização"
   ]
  },
  {
   "cell_type": "code",
   "execution_count": 72,
   "metadata": {},
   "outputs": [
    {
     "data": {
      "image/png": "[encoded data removed]",
      "text/plain": [
       "<Figure size 864x432 with 1 Axes>"
      ]
     },
     "metadata": {
      "needs_background": "light"
     },
     "output_type": "display_data"
    }
   ],
   "source": [
    "fig, ax = plt.subplots(figsize=(12, 6))\n",
    "\n",
    "ax.plot(mom['month'], mom['price'], marker='o', linestyle='--')\n",
    "ax.set_title('Crescimento MoM do preço dos imóveis com 3 banheiros', fontsize=15)\n",
    "ax.set_ylabel('Preço do imóvel (USD)')\n",
    "ax.set_xlabel('Mês')\n",
    "\n",
    "plt.show()"
   ]
  },
  {
   "cell_type": "markdown",
   "metadata": {},
   "source": [
    "##### Conclusão\n",
    "* FALSO"
   ]
  },
  {
   "cell_type": "code",
   "execution_count": 73,
   "metadata": {},
   "outputs": [
    {
     "name": "stdout",
     "output_type": "stream",
     "text": [
      "Imóveis com 3 banheiros obtiveram um crescimento MoM (Month over Month) de apenas 0.07%.\n"
     ]
    }
   ],
   "source": [
    "print(f'Imóveis com 3 banheiros obtiveram um crescimento MoM (Month over Month) de apenas {h5_result:.2f}%.')"
   ]
  },
  {
   "cell_type": "markdown",
   "metadata": {},
   "source": [
    "#### H6) Imóveis com mais números de quarto são em média 10% mais caros do que outros imóveis com 1 unidade de quartos a menos, em média.\n",
    "___"
   ]
  },
  {
   "cell_type": "markdown",
   "metadata": {},
   "source": [
    "##### Cálculo em porcentagem"
   ]
  },
  {
   "cell_type": "code",
   "execution_count": 74,
   "metadata": {},
   "outputs": [
    {
     "data": {
      "text/html": [
       "<div>\n",
       "<style scoped>\n",
       "    .dataframe tbody tr th:only-of-type {\n",
       "        vertical-align: middle;\n",
       "    }\n",
       "\n",
       "    .dataframe tbody tr th {\n",
       "        vertical-align: top;\n",
       "    }\n",
       "\n",
       "    .dataframe thead th {\n",
       "        text-align: right;\n",
       "    }\n",
       "</style>\n",
       "<table border=\"1\" class=\"dataframe\">\n",
       "  <thead>\n",
       "    <tr style=\"text-align: right;\">\n",
       "      <th></th>\n",
       "      <th>bedrooms</th>\n",
       "      <th>price</th>\n",
       "    </tr>\n",
       "  </thead>\n",
       "  <tbody>\n",
       "    <tr>\n",
       "      <th>0</th>\n",
       "      <td>2</td>\n",
       "      <td>392812.71</td>\n",
       "    </tr>\n",
       "    <tr>\n",
       "      <th>1</th>\n",
       "      <td>3</td>\n",
       "      <td>436743.02</td>\n",
       "    </tr>\n",
       "    <tr>\n",
       "      <th>2</th>\n",
       "      <td>4</td>\n",
       "      <td>549244.83</td>\n",
       "    </tr>\n",
       "    <tr>\n",
       "      <th>3</th>\n",
       "      <td>5</td>\n",
       "      <td>595915.42</td>\n",
       "    </tr>\n",
       "  </tbody>\n",
       "</table>\n",
       "</div>"
      ],
      "text/plain": [
       "   bedrooms     price\n",
       "0         2 392812.71\n",
       "1         3 436743.02\n",
       "2         4 549244.83\n",
       "3         5 595915.42"
      ]
     },
     "execution_count": 74,
     "metadata": {},
     "output_type": "execute_result"
    }
   ],
   "source": [
    "df_h6 = data.groupby('bedrooms').agg({'price':'mean'}).reset_index()\n",
    "df_h6"
   ]
  },
  {
   "cell_type": "code",
   "execution_count": 75,
   "metadata": {},
   "outputs": [],
   "source": [
    "h6_result = calculate_consecutive_percentage(df_h6, 'price')"
   ]
  },
  {
   "cell_type": "markdown",
   "metadata": {},
   "source": [
    "##### Criando Visualização"
   ]
  },
  {
   "cell_type": "code",
   "execution_count": 76,
   "metadata": {},
   "outputs": [
    {
     "data": {
      "image/png": "[encoded data removed]",
      "text/plain": [
       "<Figure size 864x432 with 1 Axes>"
      ]
     },
     "metadata": {
      "needs_background": "light"
     },
     "output_type": "display_data"
    }
   ],
   "source": [
    "g = sns.catplot(data=data, x='bedrooms', y='price', kind='point', height=6, aspect=2)\n",
    "g.set(title='Média do preço dos imóveis por número de quartos', ylabel='Preço dos imóveis (USD)', \\\n",
    "    xlabel='Número de quartos')\n",
    "\n",
    "plt.show()"
   ]
  },
  {
   "cell_type": "markdown",
   "metadata": {},
   "source": [
    "##### Conclusão\n",
    "* FALSO"
   ]
  },
  {
   "cell_type": "code",
   "execution_count": 77,
   "metadata": {},
   "outputs": [
    {
     "name": "stdout",
     "output_type": "stream",
     "text": [
      "Imóveis com mais número de quartos, são em média 18.47% mais caros do que aqueles com uma unidade de quarto a menos.\n"
     ]
    }
   ],
   "source": [
    "print(f'Imóveis com mais número de quartos, são em média {h6_result}% mais caros do \\\n",
    "que aqueles com uma unidade de quarto a menos.')"
   ]
  },
  {
   "cell_type": "markdown",
   "metadata": {},
   "source": [
    "#### H7) A variação média no preço dos imóveis entre as categorias da variável *condition*, indicam um acréscimo médio de 20% de uma para outra.\n",
    "___"
   ]
  },
  {
   "cell_type": "markdown",
   "metadata": {},
   "source": [
    "##### Cálculo em porcentagem"
   ]
  },
  {
   "cell_type": "code",
   "execution_count": 78,
   "metadata": {},
   "outputs": [
    {
     "data": {
      "text/html": [
       "<div>\n",
       "<style scoped>\n",
       "    .dataframe tbody tr th:only-of-type {\n",
       "        vertical-align: middle;\n",
       "    }\n",
       "\n",
       "    .dataframe tbody tr th {\n",
       "        vertical-align: top;\n",
       "    }\n",
       "\n",
       "    .dataframe thead th {\n",
       "        text-align: right;\n",
       "    }\n",
       "</style>\n",
       "<table border=\"1\" class=\"dataframe\">\n",
       "  <thead>\n",
       "    <tr style=\"text-align: right;\">\n",
       "      <th></th>\n",
       "      <th>condition</th>\n",
       "      <th>price</th>\n",
       "    </tr>\n",
       "  </thead>\n",
       "  <tbody>\n",
       "    <tr>\n",
       "      <th>0</th>\n",
       "      <td>1</td>\n",
       "      <td>290673.53</td>\n",
       "    </tr>\n",
       "    <tr>\n",
       "      <th>1</th>\n",
       "      <td>2</td>\n",
       "      <td>309662.49</td>\n",
       "    </tr>\n",
       "    <tr>\n",
       "      <th>2</th>\n",
       "      <td>3</td>\n",
       "      <td>475954.88</td>\n",
       "    </tr>\n",
       "    <tr>\n",
       "      <th>3</th>\n",
       "      <td>4</td>\n",
       "      <td>465087.91</td>\n",
       "    </tr>\n",
       "    <tr>\n",
       "      <th>4</th>\n",
       "      <td>5</td>\n",
       "      <td>529921.65</td>\n",
       "    </tr>\n",
       "  </tbody>\n",
       "</table>\n",
       "</div>"
      ],
      "text/plain": [
       "  condition     price\n",
       "0         1 290673.53\n",
       "1         2 309662.49\n",
       "2         3 475954.88\n",
       "3         4 465087.91\n",
       "4         5 529921.65"
      ]
     },
     "execution_count": 78,
     "metadata": {},
     "output_type": "execute_result"
    }
   ],
   "source": [
    "df_h7 = data.groupby('condition').agg({'price':'mean'}).reset_index()\n",
    "df_h7"
   ]
  },
  {
   "cell_type": "code",
   "execution_count": 79,
   "metadata": {},
   "outputs": [],
   "source": [
    "h7_result = calculate_consecutive_percentage(df_h7, 'price')"
   ]
  },
  {
   "cell_type": "markdown",
   "metadata": {},
   "source": [
    "##### Criando visualização"
   ]
  },
  {
   "cell_type": "code",
   "execution_count": 80,
   "metadata": {},
   "outputs": [
    {
     "data": {
      "image/png": "[encoded data removed]",
      "text/plain": [
       "<Figure size 864x432 with 1 Axes>"
      ]
     },
     "metadata": {
      "needs_background": "light"
     },
     "output_type": "display_data"
    }
   ],
   "source": [
    "fig, ax = plt.subplots(figsize=(12, 6))\n",
    "\n",
    "sns.regplot(x=data['condition'].astype(int), y=data['price'], ax=ax)\n",
    "ax.set_title('Preço do imóvel por condição', fontsize=15)\n",
    "ax.set_ylabel('Preço do imóvel (USD)')\n",
    "ax.set_xlabel('Condição')\n",
    "\n",
    "plt.show()"
   ]
  },
  {
   "cell_type": "markdown",
   "metadata": {},
   "source": [
    "##### Conclusão\n",
    "* VERDADEIRO"
   ]
  },
  {
   "cell_type": "code",
   "execution_count": 81,
   "metadata": {},
   "outputs": [
    {
     "name": "stdout",
     "output_type": "stream",
     "text": [
      "Entre as categorias da variável condition, averigou-se um acréscimo médio de 19.32% no preço do imóvel.\n"
     ]
    }
   ],
   "source": [
    "print(f'Entre as categorias da variável condition, averigou-se um acréscimo \\\n",
    "médio de {h7_result:.2f}% no preço do imóvel.')"
   ]
  },
  {
   "cell_type": "markdown",
   "metadata": {},
   "source": [
    "#### H8) Imóveis em más condições mas COM vista para o mar, são em média 40% mais caros do que aqueles em mesmas condições mas SEM vista para o mar.\n",
    "___"
   ]
  },
  {
   "cell_type": "markdown",
   "metadata": {},
   "source": [
    "##### Cálculo em porcentagem"
   ]
  },
  {
   "cell_type": "code",
   "execution_count": 82,
   "metadata": {},
   "outputs": [],
   "source": [
    "df_h8_with = data.loc[(data['waterfront'] == 1) & ((data['condition'] == 1) | (data['condition'] == 2))].price.mean()\n",
    "df_h8_without = data.loc[(data['waterfront'] == 0) & ((data['condition'] == 1) | (data['condition'] == 2))].price.mean()"
   ]
  },
  {
   "cell_type": "code",
   "execution_count": 83,
   "metadata": {},
   "outputs": [],
   "source": [
    "h8_result = diff_mean(df_h8_without, df_h8_with)"
   ]
  },
  {
   "cell_type": "markdown",
   "metadata": {},
   "source": [
    "##### Criando Visualização"
   ]
  },
  {
   "cell_type": "code",
   "execution_count": 84,
   "metadata": {},
   "outputs": [
    {
     "data": {
      "image/png": "[encoded data removed]",
      "text/plain": [
       "<Figure size 864x432 with 1 Axes>"
      ]
     },
     "metadata": {
      "needs_background": "light"
     },
     "output_type": "display_data"
    }
   ],
   "source": [
    "g = sns.catplot(data=data, x='condition', y='price', hue='waterfront', kind='bar', height=6, aspect=2, legend=False)\n",
    "g.set(title='Preço do imóvel por condição', xlabel='Condição', ylabel='Preço do imóvel (USD)')\n",
    "\n",
    "plt.legend(loc='upper right', title='Vista para o Mar')\n",
    "plt.show(g)"
   ]
  },
  {
   "cell_type": "markdown",
   "metadata": {},
   "source": [
    "##### Conclusão\n",
    "* FALSO"
   ]
  },
  {
   "cell_type": "code",
   "execution_count": 85,
   "metadata": {},
   "outputs": [
    {
     "name": "stdout",
     "output_type": "stream",
     "text": [
      "Imóveis em más condições mas possuem vista para o mar, são em média 115.83% mais caros do que imóveis nas mesmas condições mas não possuem vista para o mar.\n"
     ]
    }
   ],
   "source": [
    "print(f'Imóveis em más condições mas possuem vista para o mar, são em média {h8_result:.2f}% mais caros do que \\\n",
    "imóveis nas mesmas condições mas não possuem vista para o mar.')"
   ]
  },
  {
   "cell_type": "markdown",
   "metadata": {},
   "source": [
    "#### H9) Para cada nível da variável 'grade', o preço médio dos imóveis aumenta em 18%."
   ]
  },
  {
   "cell_type": "markdown",
   "metadata": {},
   "source": [
    "##### Cálculo em porcentagem"
   ]
  },
  {
   "cell_type": "code",
   "execution_count": 86,
   "metadata": {},
   "outputs": [],
   "source": [
    "df_h9 = data.copy()"
   ]
  },
  {
   "cell_type": "code",
   "execution_count": 87,
   "metadata": {},
   "outputs": [
    {
     "data": {
      "text/html": [
       "<div>\n",
       "<style scoped>\n",
       "    .dataframe tbody tr th:only-of-type {\n",
       "        vertical-align: middle;\n",
       "    }\n",
       "\n",
       "    .dataframe tbody tr th {\n",
       "        vertical-align: top;\n",
       "    }\n",
       "\n",
       "    .dataframe thead th {\n",
       "        text-align: right;\n",
       "    }\n",
       "</style>\n",
       "<table border=\"1\" class=\"dataframe\">\n",
       "  <thead>\n",
       "    <tr style=\"text-align: right;\">\n",
       "      <th></th>\n",
       "      <th>grade</th>\n",
       "      <th>price</th>\n",
       "    </tr>\n",
       "  </thead>\n",
       "  <tbody>\n",
       "    <tr>\n",
       "      <th>0</th>\n",
       "      <td>4</td>\n",
       "      <td>206300.00</td>\n",
       "    </tr>\n",
       "    <tr>\n",
       "      <th>1</th>\n",
       "      <td>5</td>\n",
       "      <td>241265.96</td>\n",
       "    </tr>\n",
       "    <tr>\n",
       "      <th>2</th>\n",
       "      <td>6</td>\n",
       "      <td>299811.53</td>\n",
       "    </tr>\n",
       "    <tr>\n",
       "      <th>3</th>\n",
       "      <td>7</td>\n",
       "      <td>398963.41</td>\n",
       "    </tr>\n",
       "    <tr>\n",
       "      <th>4</th>\n",
       "      <td>8</td>\n",
       "      <td>526899.10</td>\n",
       "    </tr>\n",
       "    <tr>\n",
       "      <th>5</th>\n",
       "      <td>9</td>\n",
       "      <td>713663.81</td>\n",
       "    </tr>\n",
       "    <tr>\n",
       "      <th>6</th>\n",
       "      <td>10</td>\n",
       "      <td>850157.96</td>\n",
       "    </tr>\n",
       "    <tr>\n",
       "      <th>7</th>\n",
       "      <td>11</td>\n",
       "      <td>1003016.79</td>\n",
       "    </tr>\n",
       "    <tr>\n",
       "      <th>8</th>\n",
       "      <td>12</td>\n",
       "      <td>1285000.00</td>\n",
       "    </tr>\n",
       "  </tbody>\n",
       "</table>\n",
       "</div>"
      ],
      "text/plain": [
       "   grade      price\n",
       "0      4  206300.00\n",
       "1      5  241265.96\n",
       "2      6  299811.53\n",
       "3      7  398963.41\n",
       "4      8  526899.10\n",
       "5      9  713663.81\n",
       "6     10  850157.96\n",
       "7     11 1003016.79\n",
       "8     12 1285000.00"
      ]
     },
     "execution_count": 87,
     "metadata": {},
     "output_type": "execute_result"
    }
   ],
   "source": [
    "df_h9_1 =  df_h9.groupby('grade').agg({'price': 'mean'}).reset_index()\n",
    "df_h9_1"
   ]
  },
  {
   "cell_type": "code",
   "execution_count": 88,
   "metadata": {},
   "outputs": [],
   "source": [
    "h9_result = calculate_consecutive_percentage(df_h9_1, 'price')"
   ]
  },
  {
   "cell_type": "markdown",
   "metadata": {},
   "source": [
    "##### Criando Visualização"
   ]
  },
  {
   "cell_type": "code",
   "execution_count": 89,
   "metadata": {},
   "outputs": [
    {
     "data": {
      "image/png": "[encoded data removed]",
      "text/plain": [
       "<Figure size 864x432 with 1 Axes>"
      ]
     },
     "metadata": {
      "needs_background": "light"
     },
     "output_type": "display_data"
    }
   ],
   "source": [
    "fig, ax = plt.subplots(figsize=(12, 6))\n",
    "\n",
    "sns.barplot(data=df_h9_1, x='grade', y='price', ax=ax)\n",
    "ax.set_title('Preço do imóvel por Grade', fontsize=15)\n",
    "ax.set_xlabel('Grade')\n",
    "ax.set_ylabel('Preço do imóvel (USD)')\n",
    "\n",
    "plt.show()"
   ]
  },
  {
   "cell_type": "markdown",
   "metadata": {},
   "source": [
    "##### Conclusão\n",
    "* FALSO"
   ]
  },
  {
   "cell_type": "code",
   "execution_count": 90,
   "metadata": {},
   "outputs": [
    {
     "name": "stdout",
     "output_type": "stream",
     "text": [
      "Para cada nível da variável \"grade\", o preço médio dos imóveis subiu em 25.56%.\n"
     ]
    }
   ],
   "source": [
    "print(f'Para cada nível da variável \"grade\", o preço médio dos imóveis subiu em {h9_result:.2f}%.')"
   ]
  },
  {
   "cell_type": "markdown",
   "metadata": {},
   "source": [
    "#### H10) O crescimento WoW (Week over Week) do preço das propriedades é de 0.1%, na média.\n",
    "___"
   ]
  },
  {
   "cell_type": "markdown",
   "metadata": {},
   "source": [
    "##### Cálculo em porcentagem"
   ]
  },
  {
   "cell_type": "code",
   "execution_count": 91,
   "metadata": {},
   "outputs": [],
   "source": [
    "df_h10 = data.copy()"
   ]
  },
  {
   "cell_type": "code",
   "execution_count": 92,
   "metadata": {},
   "outputs": [],
   "source": [
    "df_h10_2 = df_h10.groupby('week').agg({'price': 'mean'}).reset_index()"
   ]
  },
  {
   "cell_type": "code",
   "execution_count": 93,
   "metadata": {},
   "outputs": [],
   "source": [
    "h10_result = calculate_consecutive_percentage(df_h10_2, 'price')"
   ]
  },
  {
   "cell_type": "markdown",
   "metadata": {},
   "source": [
    "##### Criando Visualização"
   ]
  },
  {
   "cell_type": "code",
   "execution_count": 94,
   "metadata": {},
   "outputs": [
    {
     "data": {
      "image/png": "[encoded data removed]",
      "text/plain": [
       "<Figure size 1152x576 with 1 Axes>"
      ]
     },
     "metadata": {
      "needs_background": "light"
     },
     "output_type": "display_data"
    }
   ],
   "source": [
    "fig, ax = plt.subplots(figsize=(16, 8))\n",
    "\n",
    "sns.lineplot(data=data, x='week', y='price', markers=True, ax=ax)\n",
    "\n",
    "plt.show()"
   ]
  },
  {
   "cell_type": "markdown",
   "metadata": {},
   "source": [
    "##### Conclusão\n",
    "* VERDADEIRO"
   ]
  },
  {
   "cell_type": "code",
   "execution_count": 95,
   "metadata": {},
   "outputs": [
    {
     "name": "stdout",
     "output_type": "stream",
     "text": [
      "O crescimento WoW (Week over Week) dos imóveis foi de apenas 0.11%, na média.\n"
     ]
    }
   ],
   "source": [
    "print(f'O crescimento WoW (Week over Week) dos imóveis foi de apenas {h10_result:.2f}%, na média.')"
   ]
  },
  {
   "cell_type": "markdown",
   "metadata": {},
   "source": [
    "# 6) Main Business Insights"
   ]
  },
  {
   "cell_type": "markdown",
   "metadata": {},
   "source": [
    "##### *Financial Results for the Business*\n",
    "After the analysis, among the 21613 properties available for purchase in the King County region, **5809 were suggested for purchase** and detailed in the Dashboard (report 1) for the \"CEO\".\n",
    "\n",
    "If the recommended properties are purchased, the initial investment expected is $2.15 billion dollars. Upon resale of all properties, a total of $2.54 billion dollars will be raised and the total expected profit is **$397 million dollars**, totalizing an **18.46% return on the capital initially invested**.\n"
   ]
  },
  {
   "cell_type": "markdown",
   "metadata": {},
   "source": [
    "# 7) Next Steps"
   ]
  },
  {
   "cell_type": "markdown",
   "metadata": {},
   "source": [
    "* Add Docstring to Functions\n",
    "* Apply more robust techniques to handle outliers\n",
    "* Create a ML regression model to predict the price of the houses\n",
    "* Create a ML model to estimate the optimal reselling price for given house\n",
    "* Create new hyphotesis and validate them"
   ]
  },
  {
   "cell_type": "markdown",
   "metadata": {},
   "source": []
  }
 ],
 "metadata": {
  "kernelspec": {
   "display_name": "Python 3.10.4 ('minimal_ds')",
   "language": "python",
   "name": "python3"
  },
  "language_info": {
   "codemirror_mode": {
    "name": "ipython",
    "version": 3
   },
   "file_extension": ".py",
   "mimetype": "text/x-python",
   "name": "python",
   "nbconvert_exporter": "python",
   "pygments_lexer": "ipython3",
   "version": "3.10.4"
  },
  "orig_nbformat": 4,
  "vscode": {
   "interpreter": {
    "hash": "cf183d93cffc364ae1cda15ac4df771c148f139d0734e2b78d2fa09862cd4f6c"
   }
  }
 },
 "nbformat": 4,
 "nbformat_minor": 2
}
