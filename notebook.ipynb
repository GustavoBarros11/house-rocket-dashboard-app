{
 "cells": [
  {
   "cell_type": "markdown",
   "metadata": {},
   "source": [
    "# 1) Questões de Negócio\n",
    "**Nome da Empresa**: House Rocket<br>\n",
    "**Modelo de Negócio**: Compra e venda de imóveis, obtendo lucro pela revenda.<br>\n",
    "**Problemas de Negócio**: \n",
    "1. Quais os imóveis que a House Rocket deveria comprar e por qual preço?\n",
    "2. Uma vez comprados, quando será a melhor época para revender e por qual preço?\n",
    "3. Valide as seguintes *hipóteses de negócio*:\n",
    "   1. Imóveis que possuem vista para água, são 20% mais caros, na média.\n",
    "   2. Imóveis com data de construção menor que 1955, são 50% mais baratos, na média.\n",
    "   3. Imóveis sem porão - possuem área total (sqrt_lot) - são 40% maiores do que os imóveis com porão.\n",
    "   4. O crescimento do preço dos imóveis YoY (Year over Year) é de 10%.\n",
    "   5. Imóveis com 3 banheiros tem um crescimento de MoM (Month over Month) de 15%.\n",
    "   6. Imóveis com mais números de quarto são em média 10% mais caros do que outros imóveis com 1 unidade de quartos a menos, em média.\n",
    "   7. Imóveis antigos construidos antes de 1970, que nunca foram renovados, são 40% mais baratos em média.\n",
    "   8. Imóveis que foram renovados recentemente são 19% mais caros, na mediana.\n",
    "   9.  Imóveis em más condições mas possuem vista para o mar, são 10% mais caras, na mediana.\n",
    "   10. O crescimento MoM (Month over Month) do preço das propriedades é de 1%, na média."
   ]
  },
  {
   "cell_type": "markdown",
   "metadata": {},
   "source": [
    "# 2) Planejamento da Solução\n",
    "### Produto Final\n",
    "- Dashboard disponível online 24/7, contendo:\n",
    "  - 2 tabelas referentes a recomendações de imóveis e preços de compra e revenda.\n",
    "  - Visualiações correspondendo a validação de cada uma das hipóteses de negócio.\n",
    "### Planejamento das Ferramentas\n",
    "- Python 3.10.*\n",
    "- Pandas, Numpy\n",
    "- Matplotlib e Seaborn\n",
    "- Streamlit\n",
    "- Cloud Heroku\n",
    "### Processo\n",
    "##### 1) Quais os imóveis que a House Rocket deveria comprar e por qual preço?\n",
    "1. Agrupar os imóveis por região;\n",
    "2. Aplicar mediana do preço de cada região;\n",
    "3. Selecionar imóveis que estejam abaixo do preço mediano de sua região e que estejam em boas condições;\n",
    "##### 2) Uma vez comprados, quando será a melhor época para revender e por qual preço?\n",
    "1. Agrupar os imóveis por região e por sazionalidade (verão e inverno);\n",
    "2. Calcular preço mediano de cada grupo;\n",
    "3. Selecionar aqueles imóveis que estejam em boas condições e que possuam seu preço abaixo da mediana de seu grupo;\n",
    "4. \n",
    "##### 3) Valide as seguintes *hipóteses de negócio*:\n",
    "1. **Imóveis que possuem vista para água, são 20% mais caros, na média.**\n",
    "2. **Imóveis com data de construção menor que 1955, são 50% mais baratos, na média.**\n",
    "3. **Imóveis sem porão - possuem área total (sqrt_lot) - são 40% maiores do que os imóveis com porão.**\n",
    "4. **O crescimento do preço dos imóveis YoY (Year over Year) é de 10%.**\n",
    "5. **Imóveis com 3 banheiros tem um crescimento de MoM (Month over Month) de 15%.**\n",
    "6. **Imóveis com mais números de quarto são em média 10% mais caros do que outros imóveis com 1 unidade de quartos a menos, em média.**\n",
    "7. **Imóveis antigos construidos antes de 1970, que nunca foram renovados, são 40% mais baratos em média.**\n",
    "8. **Imóveis que foram renovados recentemente são 19% mais caros, na mediana.**\n",
    "9. **Imóveis em más condições mas possuem vista para o mar, são 10% mais caras, na mediana.**\n",
    "10. **O crescimento MoM (Month over Month) do preço das propriedades é de 1%, na média.**"
   ]
  },
  {
   "cell_type": "markdown",
   "metadata": {},
   "source": [
    "# 3) Coleta e Limpeza dos Dados"
   ]
  },
  {
   "cell_type": "markdown",
   "metadata": {},
   "source": []
  },
  {
   "cell_type": "markdown",
   "metadata": {},
   "source": [
    "# 4) Análise Exploratória dos Dados"
   ]
  },
  {
   "cell_type": "code",
   "execution_count": null,
   "metadata": {},
   "outputs": [],
   "source": []
  }
 ],
 "metadata": {
  "kernelspec": {
   "display_name": "Python 3.8.10 64-bit",
   "language": "python",
   "name": "python3"
  },
  "language_info": {
   "name": "python",
   "version": "3.8.10"
  },
  "orig_nbformat": 4,
  "vscode": {
   "interpreter": {
    "hash": "916dbcbb3f70747c44a77c7bcd40155683ae19c65e1c03b4aa3499c5328201f1"
   }
  }
 },
 "nbformat": 4,
 "nbformat_minor": 2
}
